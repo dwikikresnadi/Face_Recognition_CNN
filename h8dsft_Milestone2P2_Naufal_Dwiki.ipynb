{
  "cells": [
    {
      "cell_type": "markdown",
      "metadata": {
        "id": "LJBJafmeJwtf"
      },
      "source": [
        "**Using this template**\n",
        "\n",
        "1. Change notebook title to assignment title you working on, eg. `Graded Challenge 1 or Milestone 1`\n",
        "2. Put your identity such as name and batch number below notebook title.\n",
        "3. Write your description before do any work. State your purpose of this assignment and what you are trying to achieve. \n",
        "4. Look at the rubric of this assignment and make sure you understand the criteria.\n",
        "5. Code your solution in the cell provided below the working area section.\n",
        "6. State your conlusions, findings, and any other relevant information in the cell provided below the conclusions sections.\n",
        "7. Save this notebook and rename it to assignment title you working on  eg. `Graded Challenge 1 or Milestone 1`\n",
        "8. Push your assignment before deadline.\n",
        "9. Good Luck!"
      ]
    },
    {
      "cell_type": "markdown",
      "metadata": {
        "id": "zhITv9euJwtm"
      },
      "source": [
        "# Notebook Title\n",
        "\n",
        "*Milestone 2*\n",
        "\n",
        "Muhammad Naufal Dwiki Kresnadi - Batch 007"
      ]
    },
    {
      "cell_type": "markdown",
      "metadata": {
        "id": "jMPtUTeTJwtn"
      },
      "source": [
        "## Description\n",
        "\n",
        "Perusahaan ingin mengetahui bagaimana melakukan face recognation untuk dapat mengetahui suatu gambar menunjukkan suatu emosi tertentu. Diharapkan dapat melakukan pemisahan emosi dari kelas emosi yang diinginkan, yaitu happy, angry, neutral, dan sad.\n",
        "\n",
        "### Objective\n",
        "\n",
        "`Berdasarkan deskripsi permasalahan yang dijabarkan, didapatkan objektif yang dimiliki adalah sebagai berikut.`\n",
        "1. Perusahaan dapat mengetahui bagaimana mengenai emosi berdasarkan gambar\n",
        "2. Perusahaan dapat mengetahui cara membuat model untuk face recognation\n",
        "\n",
        "### Problem Statement\n",
        "\n",
        "`Berdasarkan objective yang ditentukan, berikut merupakan problem statement yang dibuat.`\n",
        "1. Bagaimana mengetahui emosi yang terdapat pada setiap foto?\n",
        "2. Bagaimana membuat model untuk membuat klasifikasi emosi pada setiap foto?"
      ]
    },
    {
      "cell_type": "markdown",
      "metadata": {
        "id": "t2ULjBbZJwtn"
      },
      "source": [
        "## Working Area\n",
        "\n",
        "```txt\n",
        "Put your code, analysis, everything below this line\n",
        "\n",
        "Make sure to check everything the rubric requires before you submit\n",
        "```"
      ]
    },
    {
      "cell_type": "code",
      "execution_count": 2,
      "metadata": {
        "colab": {
          "base_uri": "https://localhost:8080/"
        },
        "id": "XC6cyfkePVoH",
        "outputId": "d8dccd1e-ccd4-4078-e83f-6573b40cf16e"
      },
      "outputs": [
        {
          "name": "stdout",
          "output_type": "stream",
          "text": [
            "Mounted at /content/gdrive\n"
          ]
        }
      ],
      "source": [
        "# mount gdrive\n",
        "from google.colab import drive\n",
        "drive.mount('/content/gdrive')"
      ]
    },
    {
      "cell_type": "code",
      "execution_count": 3,
      "metadata": {
        "colab": {
          "base_uri": "https://localhost:8080/"
        },
        "id": "c_cgiO8YPt2N",
        "outputId": "88616a80-5113-4f28-b14a-13b42841650f"
      },
      "outputs": [
        {
          "name": "stdout",
          "output_type": "stream",
          "text": [
            "/content/gdrive/My Drive/H8_and_Projects/dataset\n"
          ]
        }
      ],
      "source": [
        "# going path dataset\n",
        "% cd /content/gdrive/My Drive/H8_and_Projects/dataset"
      ]
    },
    {
      "cell_type": "code",
      "execution_count": null,
      "metadata": {
        "colab": {
          "base_uri": "https://localhost:8080/"
        },
        "id": "49NjBPGL-Ste",
        "outputId": "511bf582-60c4-4cfd-941d-c914b461e6ad"
      },
      "outputs": [
        {
          "name": "stdout",
          "output_type": "stream",
          "text": [
            "train  validation\n"
          ]
        }
      ],
      "source": [
        "! ls"
      ]
    },
    {
      "cell_type": "code",
      "execution_count": 70,
      "metadata": {
        "id": "SnAViRkQKftU"
      },
      "outputs": [],
      "source": [
        "# import module\n",
        "import numpy as np\n",
        "import pandas as pd\n",
        "import matplotlib.pyplot as plt\n",
        "import matplotlib.image as mpimg\n",
        "import seaborn as sns\n",
        "from sklearn.model_selection import train_test_split\n",
        "import tensorflow as tf\n",
        "import os\n",
        "import random\n",
        "import numpy as np\n",
        "import cv2\n",
        "from tensorflow.keras.preprocessing.image import ImageDataGenerator\n",
        "from tensorflow.keras.preprocessing import image\n",
        "import pathlib\n",
        "\n",
        "%matplotlib inline"
      ]
    },
    {
      "cell_type": "markdown",
      "metadata": {
        "id": "qakQEFunJwto"
      },
      "source": [
        "### EDA & Feature Engineering\n",
        "\n",
        "Pada proses ini akan dilakukan beberapa tahapan sebagai berikut :\n",
        "1. EDA terhadap beberapa data gambar\n",
        "2. Feature Engineering pada Data Train & Data Valid"
      ]
    },
    {
      "cell_type": "markdown",
      "metadata": {
        "id": "SSrMlOVw_vPu"
      },
      "source": [
        "#### EDA Dataset"
      ]
    },
    {
      "cell_type": "code",
      "execution_count": null,
      "metadata": {
        "colab": {
          "base_uri": "https://localhost:8080/"
        },
        "id": "XiBTsQFaJwto",
        "outputId": "b4b8d8aa-17fe-4a17-e99e-e3a0fc4d8858"
      },
      "outputs": [
        {
          "name": "stdout",
          "output_type": "stream",
          "text": [
            "Ada 4 folder dan ada 0 gambar di dalam train\n",
            "Ada 0 folder dan ada 4982 gambar di dalam train/neutral\n",
            "Ada 0 folder dan ada 4938 gambar di dalam train/sad\n",
            "Ada 0 folder dan ada 3993 gambar di dalam train/angry\n",
            "Ada 0 folder dan ada 7164 gambar di dalam train/happy\n",
            "Di dalam file train terdapat total gambar sebanyak 21077\n"
          ]
        }
      ],
      "source": [
        "# melihat data train\n",
        "x=0\n",
        "for dirpath, dirnames, filenames in os.walk('train'):\n",
        "  print(f\"Ada {len(dirnames)} folder dan ada {len(filenames)} gambar di dalam {dirpath}\")\n",
        "  x += len(filenames)\n",
        "print(f'Di dalam file train terdapat total gambar sebanyak {x}')"
      ]
    },
    {
      "cell_type": "code",
      "execution_count": null,
      "metadata": {
        "colab": {
          "base_uri": "https://localhost:8080/"
        },
        "id": "ROslgy3LJwtp",
        "outputId": "3511a071-50f8-4924-ca8e-573be820050f"
      },
      "outputs": [
        {
          "name": "stdout",
          "output_type": "stream",
          "text": [
            "Ada 4 folder dan ada 0 gambar di dalam validation\n",
            "Ada 0 folder dan ada 1139 gambar di dalam validation/sad\n",
            "Ada 0 folder dan ada 960 gambar di dalam validation/angry\n",
            "Ada 0 folder dan ada 1216 gambar di dalam validation/neutral\n",
            "Ada 0 folder dan ada 1825 gambar di dalam validation/happy\n",
            "Di dalam file validasi terdapat total gambar sebanyak 5140\n"
          ]
        }
      ],
      "source": [
        "# melihat data validation\n",
        "x1 = 0\n",
        "for dirpath1, dirnames1, filenames1 in os.walk('validation'):\n",
        "  print(f\"Ada {len(dirnames1)} folder dan ada {len(filenames1)} gambar di dalam {dirpath1}\")\n",
        "  x1 += len(filenames1)\n",
        "print(f'Di dalam file validasi terdapat total gambar sebanyak {x1}')"
      ]
    },
    {
      "cell_type": "code",
      "execution_count": 32,
      "metadata": {
        "id": "IbLSVbBMJwtq"
      },
      "outputs": [],
      "source": [
        "# membuat fungsi random salah satu gambar\n",
        "def view_image(target_dir, target_class):\n",
        "  target_folder = target_dir + target_class\n",
        "  random_img = random.sample(os.listdir(target_folder), 1)\n",
        "\n",
        "  img = mpimg.imread(target_folder + '/' + random_img[0])\n",
        "  plt.imshow(img, cmap='gray')\n",
        "  plt.title(target_class)\n",
        "  plt.axis('off')\n",
        "\n",
        "  print(f\"Image Shape : {img.shape}\")\n",
        "  return img \n"
      ]
    },
    {
      "cell_type": "code",
      "execution_count": 33,
      "metadata": {
        "colab": {
          "base_uri": "https://localhost:8080/",
          "height": 282
        },
        "id": "OLV6noXYKvNM",
        "outputId": "58d48f0a-4c91-4a0c-eacf-63712312e846"
      },
      "outputs": [
        {
          "name": "stdout",
          "output_type": "stream",
          "text": [
            "Image Shape : (48, 48)\n"
          ]
        },
        {
          "data": {
            "image/png": "[encoded data removed]",
            "text/plain": [
              "<Figure size 432x288 with 1 Axes>"
            ]
          },
          "metadata": {
            "needs_background": "light"
          },
          "output_type": "display_data"
        }
      ],
      "source": [
        "# melihat random gambar\n",
        "img = view_image(target_dir='train/',\n",
        "                 target_class='sad')"
      ]
    },
    {
      "cell_type": "code",
      "execution_count": 34,
      "metadata": {
        "id": "pA39b9PQT4Z4"
      },
      "outputs": [],
      "source": [
        "img = img / 225"
      ]
    },
    {
      "cell_type": "code",
      "execution_count": 35,
      "metadata": {
        "colab": {
          "base_uri": "https://localhost:8080/",
          "height": 354
        },
        "id": "6fpHcIONQ-GN",
        "outputId": "b81283e9-2122-4b44-b998-0466a3e7f486"
      },
      "outputs": [
        {
          "data": {
            "text/plain": [
              "Text(0.5, 1.0, 'dy')"
            ]
          },
          "execution_count": 35,
          "metadata": {},
          "output_type": "execute_result"
        },
        {
          "data": {
            "image/png": "[encoded data removed]",
            "text/plain": [
              "<Figure size 1512x360 with 3 Axes>"
            ]
          },
          "metadata": {
            "needs_background": "light"
          },
          "output_type": "display_data"
        }
      ],
      "source": [
        "# melihat edge yang ada pada gambar\n",
        "grey_dx,grey_dy = np.gradient(img)\n",
        "\n",
        "fig, ax = plt.subplots(ncols=3,figsize=(21,5))\n",
        "ax[0].imshow(img, cmap='gray')\n",
        "ax[0].set_title('Gambar')\n",
        "ax[1].imshow(grey_dx, cmap='gray')\n",
        "ax[1].set_title('dx')\n",
        "ax[2].imshow(grey_dy, cmap='gray')\n",
        "ax[2].set_title('dy')"
      ]
    },
    {
      "cell_type": "code",
      "execution_count": 71,
      "metadata": {
        "colab": {
          "base_uri": "https://localhost:8080/"
        },
        "id": "Xm8BLUcu0ogp",
        "outputId": "9a2b30f6-b91f-4ee5-cce2-14e5c6d19a49"
      },
      "outputs": [
        {
          "name": "stdout",
          "output_type": "stream",
          "text": [
            "['angry' 'happy' 'neutral' 'sad']\n"
          ]
        }
      ],
      "source": [
        "# melihat class pada dataset\n",
        "path_dir = pathlib.Path('train/')\n",
        "class_name = np.array(sorted([item.name for item in path_dir.glob(\"*\")]))\n",
        "print(class_name)"
      ]
    },
    {
      "cell_type": "markdown",
      "metadata": {
        "id": "MrEezHXf_zwA"
      },
      "source": [
        "#### Feature Engineering\n",
        "\n",
        "Dilakukan terhadap data train dan valid"
      ]
    },
    {
      "cell_type": "code",
      "execution_count": null,
      "metadata": {
        "colab": {
          "base_uri": "https://localhost:8080/"
        },
        "id": "sl_xeGQMXLJZ",
        "outputId": "b2ae35ad-6d1d-4b1f-cd52-976be9a87913"
      },
      "outputs": [
        {
          "name": "stdout",
          "output_type": "stream",
          "text": [
            "Setiap batch akan berisi 164 data\n",
            "Dengan sisa batch akhir sebanyak 85 data\n"
          ]
        }
      ],
      "source": [
        "# pembagian batch data train\n",
        "y = 21077%128\n",
        "y1 = 21077//128\n",
        "\n",
        "print(f'Setiap batch akan berisi {y1} data')\n",
        "print(f'Dengan sisa batch akhir sebanyak {y} data')"
      ]
    },
    {
      "cell_type": "code",
      "execution_count": null,
      "metadata": {
        "colab": {
          "base_uri": "https://localhost:8080/"
        },
        "id": "K4kSsDr1Xfc8",
        "outputId": "d32e4ea6-7fe8-4dd1-d958-a23973903405"
      },
      "outputs": [
        {
          "name": "stdout",
          "output_type": "stream",
          "text": [
            "Setiap batch akan berisi 40 data\n",
            "Dengan sisa batch akhir sebanyak 20 data\n"
          ]
        }
      ],
      "source": [
        "# pembagian batch data validasi\n",
        "z = 5140%128\n",
        "z1 = 5140//128\n",
        "\n",
        "print(f'Setiap batch akan berisi {z1} data')\n",
        "print(f'Dengan sisa batch akhir sebanyak {z} data')"
      ]
    },
    {
      "cell_type": "markdown",
      "metadata": {
        "id": "nHTQ1C0tYgRo"
      },
      "source": [
        "**NOTE** : Dapat dilihat bahwa batch dengan jumlah pembagian sebanyak 128 batch menghasilkan pemabagian yang `cukup rata` pada data train maupun data validasi dengan jumlah data pada batch akhir"
      ]
    },
    {
      "cell_type": "code",
      "execution_count": 5,
      "metadata": {
        "colab": {
          "base_uri": "https://localhost:8080/"
        },
        "id": "jHnFYZYD_-Mv",
        "outputId": "725fe414-f764-4fea-cf1b-a2969f9eb6a7"
      },
      "outputs": [
        {
          "name": "stdout",
          "output_type": "stream",
          "text": [
            "Found 21077 images belonging to 4 classes.\n",
            "Found 5140 images belonging to 4 classes.\n"
          ]
        }
      ],
      "source": [
        "# melakukan pengacakan nilai dengan nilai 42\n",
        "tf.random.set_seed(42)\n",
        "\n",
        "# preprocess gambar\n",
        "# scaling data\n",
        "train_datagen = ImageDataGenerator(rescale=1/255.0)\n",
        "valid_datagen = ImageDataGenerator(rescale=1/255.0)\n",
        "\n",
        "train_dir = 'train/'\n",
        "valid_dir = 'validation/'\n",
        "\n",
        "# image generator data train & data valid\n",
        "train_data = train_datagen.flow_from_directory(train_dir,\n",
        "                                               batch_size=128,\n",
        "                                               target_size=(48,48),\n",
        "                                               color_mode=\"grayscale\",\n",
        "                                               class_mode='categorical',\n",
        "                                               shuffle=True)\n",
        "\n",
        "valid_data = valid_datagen.flow_from_directory(valid_dir,\n",
        "                                               batch_size=128,\n",
        "                                               target_size=(48,48),\n",
        "                                               color_mode=\"grayscale\",\n",
        "                                               class_mode='categorical',\n",
        "                                               shuffle=False)"
      ]
    },
    {
      "cell_type": "markdown",
      "metadata": {
        "id": "PzvXn9j9Jwtq"
      },
      "source": [
        "### Modelling\n",
        "\n",
        "Pada tahapan ini akan dilakukan beberapa tahapan.\n",
        "1. Membuat baseline model\n",
        "2. Melakukan evaluasi performa (Baseline model)\n",
        "3. Model tuning\n",
        "4. Evaluasi Model (Keseluruhan)"
      ]
    },
    {
      "cell_type": "code",
      "execution_count": 7,
      "metadata": {
        "id": "hvU1Uv_sr30n"
      },
      "outputs": [],
      "source": [
        "from keras.layers import Dense, Input, Dropout, GlobalAveragePooling2D, Flatten, Conv2D, BatchNormalization, Activation, MaxPooling2D\n",
        "from keras.models import Model, Sequential"
      ]
    },
    {
      "cell_type": "markdown",
      "metadata": {
        "id": "tx1s62HT6mLi"
      },
      "source": [
        "#### Baseline Model\n",
        "\n",
        "Dilakukan dengan arsitektur yang sederhana, yaitu;\n",
        "\n",
        "1. 3 layer convutional, dengan activation function `relu`, pixel dengan convutional `3 x 3`, dan dengan jumlah filter masing-masing adalah `16, 64, dan 256`\n",
        "\n",
        "2. Flatten layer\n",
        "3. 2 hidden layer dengan neurons masing - masing adalah `64 dan 32`, activation function `relu`"
      ]
    },
    {
      "cell_type": "code",
      "execution_count": null,
      "metadata": {
        "colab": {
          "base_uri": "https://localhost:8080/"
        },
        "id": "UetRncYxa8ir",
        "outputId": "4f86b722-9947-46b1-aab8-99463e791821"
      },
      "outputs": [
        {
          "name": "stdout",
          "output_type": "stream",
          "text": [
            "Model: \"sequential\"\n",
            "_________________________________________________________________\n",
            " Layer (type)                Output Shape              Param #   \n",
            "=================================================================\n",
            " conv2d (Conv2D)             (None, 46, 46, 16)        160       \n",
            "                                                                 \n",
            " max_pooling2d (MaxPooling2D  (None, 23, 23, 16)       0         \n",
            " )                                                               \n",
            "                                                                 \n",
            " conv2d_1 (Conv2D)           (None, 21, 21, 64)        9280      \n",
            "                                                                 \n",
            " max_pooling2d_1 (MaxPooling  (None, 10, 10, 64)       0         \n",
            " 2D)                                                             \n",
            "                                                                 \n",
            " conv2d_2 (Conv2D)           (None, 8, 8, 256)         147712    \n",
            "                                                                 \n",
            " max_pooling2d_2 (MaxPooling  (None, 4, 4, 256)        0         \n",
            " 2D)                                                             \n",
            "                                                                 \n",
            " flatten (Flatten)           (None, 4096)              0         \n",
            "                                                                 \n",
            " dense (Dense)               (None, 64)                262208    \n",
            "                                                                 \n",
            " dense_1 (Dense)             (None, 32)                2080      \n",
            "                                                                 \n",
            " dense_2 (Dense)             (None, 4)                 132       \n",
            "                                                                 \n",
            "=================================================================\n",
            "Total params: 421,572\n",
            "Trainable params: 421,572\n",
            "Non-trainable params: 0\n",
            "_________________________________________________________________\n"
          ]
        }
      ],
      "source": [
        "# model baseline\n",
        "from tensorflow.keras.models import Sequential\n",
        "from tensorflow.keras.layers import Conv2D, MaxPool2D, Dense, Flatten, Dropout\n",
        "nb_class = 4\n",
        "# model architectur\n",
        "model = Sequential([Conv2D(16,3, activation='selu', input_shape=[48,48,1]),\n",
        "                    MaxPool2D(2),\n",
        "                    Conv2D(64,3, activation='selu'),\n",
        "                    MaxPool2D(2),\n",
        "                    Conv2D(256,3, activation='selu'),\n",
        "                    MaxPool2D(2),\n",
        "                    Flatten(),\n",
        "                    Dense(64, activation='selu'),\n",
        "                    Dense(32, activation='selu'),\n",
        "                    Dense(nb_class, activation='softmax'),\n",
        "                    ])\n",
        "\n",
        "# compile\n",
        "model.compile(loss='categorical_crossentropy',\n",
        "              optimizer='adam',\n",
        "              metrics=['accuracy'])\n",
        "\n",
        "model.summary()"
      ]
    },
    {
      "cell_type": "code",
      "execution_count": null,
      "metadata": {
        "colab": {
          "base_uri": "https://localhost:8080/"
        },
        "id": "GInfhzGOc1ru",
        "outputId": "63dadf16-6fae-48fd-d4e1-77b13af6fee6"
      },
      "outputs": [
        {
          "name": "stdout",
          "output_type": "stream",
          "text": [
            "Epoch 1/10\n",
            "165/165 [==============================] - 4459s 27s/step - loss: 1.3000 - accuracy: 0.4291 - val_loss: 1.1205 - val_accuracy: 0.5288\n",
            "Epoch 2/10\n",
            "165/165 [==============================] - 47s 285ms/step - loss: 1.0831 - accuracy: 0.5328 - val_loss: 1.0421 - val_accuracy: 0.5506\n",
            "Epoch 3/10\n",
            "165/165 [==============================] - 46s 281ms/step - loss: 0.9943 - accuracy: 0.5748 - val_loss: 0.9851 - val_accuracy: 0.5747\n",
            "Epoch 4/10\n",
            "165/165 [==============================] - 47s 283ms/step - loss: 0.9231 - accuracy: 0.6121 - val_loss: 0.9684 - val_accuracy: 0.5864\n",
            "Epoch 5/10\n",
            "165/165 [==============================] - 46s 276ms/step - loss: 0.8547 - accuracy: 0.6451 - val_loss: 0.9567 - val_accuracy: 0.5986\n",
            "Epoch 6/10\n",
            "165/165 [==============================] - 46s 278ms/step - loss: 0.7797 - accuracy: 0.6838 - val_loss: 0.9683 - val_accuracy: 0.6033\n",
            "Epoch 7/10\n",
            "165/165 [==============================] - 46s 281ms/step - loss: 0.6881 - accuracy: 0.7263 - val_loss: 1.0191 - val_accuracy: 0.5965\n",
            "Epoch 8/10\n",
            "165/165 [==============================] - 47s 283ms/step - loss: 0.6058 - accuracy: 0.7596 - val_loss: 1.0336 - val_accuracy: 0.6010\n",
            "Epoch 9/10\n",
            "165/165 [==============================] - 47s 282ms/step - loss: 0.5041 - accuracy: 0.8045 - val_loss: 1.1273 - val_accuracy: 0.5984\n",
            "Epoch 10/10\n",
            "165/165 [==============================] - 46s 280ms/step - loss: 0.4079 - accuracy: 0.8449 - val_loss: 1.2776 - val_accuracy: 0.5835\n"
          ]
        }
      ],
      "source": [
        "# model fit dengan data train dan valid\n",
        "history = model.fit(train_data,\n",
        "                    epochs=10,\n",
        "                    validation_data=valid_data)"
      ]
    },
    {
      "cell_type": "code",
      "execution_count": null,
      "metadata": {
        "colab": {
          "base_uri": "https://localhost:8080/",
          "height": 363
        },
        "id": "-RRToEph2LPr",
        "outputId": "420af6f4-e0d0-46eb-83c0-8bcb32cc4612"
      },
      "outputs": [
        {
          "data": {
            "text/html": [
              "\n",
              "  <div id=\"df-ada2cb11-a6fb-4690-8d24-f37ddbcb1439\">\n",
              "    <div class=\"colab-df-container\">\n",
              "      <div>\n",
              "<style scoped>\n",
              "    .dataframe tbody tr th:only-of-type {\n",
              "        vertical-align: middle;\n",
              "    }\n",
              "\n",
              "    .dataframe tbody tr th {\n",
              "        vertical-align: top;\n",
              "    }\n",
              "\n",
              "    .dataframe thead th {\n",
              "        text-align: right;\n",
              "    }\n",
              "</style>\n",
              "<table border=\"1\" class=\"dataframe\">\n",
              "  <thead>\n",
              "    <tr style=\"text-align: right;\">\n",
              "      <th></th>\n",
              "      <th>loss</th>\n",
              "      <th>accuracy</th>\n",
              "      <th>val_loss</th>\n",
              "      <th>val_accuracy</th>\n",
              "    </tr>\n",
              "  </thead>\n",
              "  <tbody>\n",
              "    <tr>\n",
              "      <th>0</th>\n",
              "      <td>1.300034</td>\n",
              "      <td>0.429141</td>\n",
              "      <td>1.120472</td>\n",
              "      <td>0.528794</td>\n",
              "    </tr>\n",
              "    <tr>\n",
              "      <th>1</th>\n",
              "      <td>1.083120</td>\n",
              "      <td>0.532761</td>\n",
              "      <td>1.042148</td>\n",
              "      <td>0.550584</td>\n",
              "    </tr>\n",
              "    <tr>\n",
              "      <th>2</th>\n",
              "      <td>0.994274</td>\n",
              "      <td>0.574797</td>\n",
              "      <td>0.985108</td>\n",
              "      <td>0.574708</td>\n",
              "    </tr>\n",
              "    <tr>\n",
              "      <th>3</th>\n",
              "      <td>0.923127</td>\n",
              "      <td>0.612136</td>\n",
              "      <td>0.968402</td>\n",
              "      <td>0.586381</td>\n",
              "    </tr>\n",
              "    <tr>\n",
              "      <th>4</th>\n",
              "      <td>0.854680</td>\n",
              "      <td>0.645063</td>\n",
              "      <td>0.956709</td>\n",
              "      <td>0.598638</td>\n",
              "    </tr>\n",
              "    <tr>\n",
              "      <th>5</th>\n",
              "      <td>0.779725</td>\n",
              "      <td>0.683826</td>\n",
              "      <td>0.968293</td>\n",
              "      <td>0.603307</td>\n",
              "    </tr>\n",
              "    <tr>\n",
              "      <th>6</th>\n",
              "      <td>0.688055</td>\n",
              "      <td>0.726289</td>\n",
              "      <td>1.019063</td>\n",
              "      <td>0.596498</td>\n",
              "    </tr>\n",
              "    <tr>\n",
              "      <th>7</th>\n",
              "      <td>0.605835</td>\n",
              "      <td>0.759643</td>\n",
              "      <td>1.033577</td>\n",
              "      <td>0.600973</td>\n",
              "    </tr>\n",
              "    <tr>\n",
              "      <th>8</th>\n",
              "      <td>0.504108</td>\n",
              "      <td>0.804479</td>\n",
              "      <td>1.127289</td>\n",
              "      <td>0.598444</td>\n",
              "    </tr>\n",
              "    <tr>\n",
              "      <th>9</th>\n",
              "      <td>0.407870</td>\n",
              "      <td>0.844902</td>\n",
              "      <td>1.277571</td>\n",
              "      <td>0.583463</td>\n",
              "    </tr>\n",
              "  </tbody>\n",
              "</table>\n",
              "</div>\n",
              "      <button class=\"colab-df-convert\" onclick=\"convertToInteractive('df-ada2cb11-a6fb-4690-8d24-f37ddbcb1439')\"\n",
              "              title=\"Convert this dataframe to an interactive table.\"\n",
              "              style=\"display:none;\">\n",
              "        \n",
              "  <svg xmlns=\"http://www.w3.org/2000/svg\" height=\"24px\"viewBox=\"0 0 24 24\"\n",
              "       width=\"24px\">\n",
              "    <path d=\"M0 0h24v24H0V0z\" fill=\"none\"/>\n",
              "    <path d=\"M18.56 5.44l.94 2.06.94-2.06 2.06-.94-2.06-.94-.94-2.06-.94 2.06-2.06.94zm-11 1L8.5 8.5l.94-2.06 2.06-.94-2.06-.94L8.5 2.5l-.94 2.06-2.06.94zm10 10l.94 2.06.94-2.06 2.06-.94-2.06-.94-.94-2.06-.94 2.06-2.06.94z\"/><path d=\"M17.41 7.96l-1.37-1.37c-.4-.4-.92-.59-1.43-.59-.52 0-1.04.2-1.43.59L10.3 9.45l-7.72 7.72c-.78.78-.78 2.05 0 2.83L4 21.41c.39.39.9.59 1.41.59.51 0 1.02-.2 1.41-.59l7.78-7.78 2.81-2.81c.8-.78.8-2.07 0-2.86zM5.41 20L4 18.59l7.72-7.72 1.47 1.35L5.41 20z\"/>\n",
              "  </svg>\n",
              "      </button>\n",
              "      \n",
              "  <style>\n",
              "    .colab-df-container {\n",
              "      display:flex;\n",
              "      flex-wrap:wrap;\n",
              "      gap: 12px;\n",
              "    }\n",
              "\n",
              "    .colab-df-convert {\n",
              "      background-color: #E8F0FE;\n",
              "      border: none;\n",
              "      border-radius: 50%;\n",
              "      cursor: pointer;\n",
              "      display: none;\n",
              "      fill: #1967D2;\n",
              "      height: 32px;\n",
              "      padding: 0 0 0 0;\n",
              "      width: 32px;\n",
              "    }\n",
              "\n",
              "    .colab-df-convert:hover {\n",
              "      background-color: #E2EBFA;\n",
              "      box-shadow: 0px 1px 2px rgba(60, 64, 67, 0.3), 0px 1px 3px 1px rgba(60, 64, 67, 0.15);\n",
              "      fill: #174EA6;\n",
              "    }\n",
              "\n",
              "    [theme=dark] .colab-df-convert {\n",
              "      background-color: #3B4455;\n",
              "      fill: #D2E3FC;\n",
              "    }\n",
              "\n",
              "    [theme=dark] .colab-df-convert:hover {\n",
              "      background-color: #434B5C;\n",
              "      box-shadow: 0px 1px 3px 1px rgba(0, 0, 0, 0.15);\n",
              "      filter: drop-shadow(0px 1px 2px rgba(0, 0, 0, 0.3));\n",
              "      fill: #FFFFFF;\n",
              "    }\n",
              "  </style>\n",
              "\n",
              "      <script>\n",
              "        const buttonEl =\n",
              "          document.querySelector('#df-ada2cb11-a6fb-4690-8d24-f37ddbcb1439 button.colab-df-convert');\n",
              "        buttonEl.style.display =\n",
              "          google.colab.kernel.accessAllowed ? 'block' : 'none';\n",
              "\n",
              "        async function convertToInteractive(key) {\n",
              "          const element = document.querySelector('#df-ada2cb11-a6fb-4690-8d24-f37ddbcb1439');\n",
              "          const dataTable =\n",
              "            await google.colab.kernel.invokeFunction('convertToInteractive',\n",
              "                                                     [key], {});\n",
              "          if (!dataTable) return;\n",
              "\n",
              "          const docLinkHtml = 'Like what you see? Visit the ' +\n",
              "            '<a target=\"_blank\" href=https://colab.research.google.com/notebooks/data_table.ipynb>data table notebook</a>'\n",
              "            + ' to learn more about interactive tables.';\n",
              "          element.innerHTML = '';\n",
              "          dataTable['output_type'] = 'display_data';\n",
              "          await google.colab.output.renderOutput(dataTable, element);\n",
              "          const docLink = document.createElement('div');\n",
              "          docLink.innerHTML = docLinkHtml;\n",
              "          element.appendChild(docLink);\n",
              "        }\n",
              "      </script>\n",
              "    </div>\n",
              "  </div>\n",
              "  "
            ],
            "text/plain": [
              "       loss  accuracy  val_loss  val_accuracy\n",
              "0  1.300034  0.429141  1.120472      0.528794\n",
              "1  1.083120  0.532761  1.042148      0.550584\n",
              "2  0.994274  0.574797  0.985108      0.574708\n",
              "3  0.923127  0.612136  0.968402      0.586381\n",
              "4  0.854680  0.645063  0.956709      0.598638\n",
              "5  0.779725  0.683826  0.968293      0.603307\n",
              "6  0.688055  0.726289  1.019063      0.596498\n",
              "7  0.605835  0.759643  1.033577      0.600973\n",
              "8  0.504108  0.804479  1.127289      0.598444\n",
              "9  0.407870  0.844902  1.277571      0.583463"
            ]
          },
          "execution_count": 20,
          "metadata": {},
          "output_type": "execute_result"
        }
      ],
      "source": [
        "# melihat grafik terhadap performa model\n",
        "metrics = pd.DataFrame(history.history)\n",
        "metrics"
      ]
    },
    {
      "cell_type": "code",
      "execution_count": null,
      "metadata": {
        "colab": {
          "base_uri": "https://localhost:8080/",
          "height": 513
        },
        "id": "4klkoeya2OO9",
        "outputId": "44d9c890-f42d-42c0-c78e-ba85d02d5e30"
      },
      "outputs": [
        {
          "data": {
            "image/png": "[encoded data removed]",
            "text/plain": [
              "<Figure size 432x288 with 1 Axes>"
            ]
          },
          "metadata": {
            "needs_background": "light"
          },
          "output_type": "display_data"
        },
        {
          "data": {
            "image/png": "[encoded data removed]",
            "text/plain": [
              "<Figure size 432x288 with 1 Axes>"
            ]
          },
          "metadata": {
            "needs_background": "light"
          },
          "output_type": "display_data"
        }
      ],
      "source": [
        "# performa model dari segi loss\n",
        "metrics[['loss', 'val_loss']].plot();\n",
        "# performa model dari segi accuracy\n",
        "metrics[['accuracy', 'val_accuracy']].plot();"
      ]
    },
    {
      "cell_type": "markdown",
      "metadata": {
        "id": "v9s-5BQf8UeD"
      },
      "source": [
        "`Kesimpulan dari Baseline Model`\n",
        "\n",
        "1. Dapat dilihat bahwa dari grafik baik `loss` maupun `accuracy`, mengalami overfit, dimana model terlalu \"pintar\" mempelajari data train hingga mendapatkan **nilai loss 0.4%** dan **nilai accuracy 84%** namun pada data validasi mendapatkan **nilai loss 127%** dan **nilai accuracy 53%**\n",
        "\n",
        "2. Penyebabnya menurut peneliti terdapat 2 kemungkinan, `layer pada fully connected tidak cukup banyak` atau layer tidak `teratur` dalam mempelajari sehingga terjadi explode gradient pada saat iterasi pembelajaran\n",
        "\n",
        "3. Peneliti melihat bahwa sebaiknya dilakukan `modifikasi pada setiap layer yang sudah ada` dengan tanpa melakukan *penambahan* layer baik di convutional ataupun fully connected-nya. Karena melihat performansi model sudah cukup baik di data train"
      ]
    },
    {
      "cell_type": "markdown",
      "metadata": {
        "id": "vpjS94_L7LJ7"
      },
      "source": [
        "#### Model Improvement Pertama\n",
        "\n",
        "Dilakukan dengan arsitektur sebagai berikut;\n",
        "\n",
        "1. 3 layer convutional, dengan activation function `relu`, pixel dengan convutional `3 x 3`, dan dengan jumlah filter masing-masing adalah `64, 128, dan 128` dan ditambahkan Batch Normalisasi\n",
        "\n",
        "2. Flatten layer\n",
        "3. 2 hidden layer dengan neurons masing - masing adalah `64 dan 32`, activation function `relu`"
      ]
    },
    {
      "cell_type": "code",
      "execution_count": null,
      "metadata": {
        "id": "-7flRRt5sv1P"
      },
      "outputs": [],
      "source": [
        "# model kedua\n",
        "model1 = Sequential()\n",
        "\n",
        "# Convolutional 1\n",
        "model1.add(Conv2D(64,(3,3), padding='same', input_shape=(48, 48,1)))\n",
        "model1.add(BatchNormalization())\n",
        "model1.add(Activation('relu'))\n",
        "model1.add(MaxPooling2D(pool_size=(2, 2)))\n",
        "\n",
        "# Convolutional 2\n",
        "model1.add(Conv2D(128,(5,5), padding='same'))\n",
        "model1.add(BatchNormalization())\n",
        "model1.add(Activation('relu'))\n",
        "model1.add(MaxPooling2D(pool_size=(2, 2)))\n",
        "\n",
        "# Convolutional 3\n",
        "model1.add(Conv2D(512,(3,3), padding='same'))\n",
        "model1.add(BatchNormalization())\n",
        "model1.add(Activation('relu'))\n",
        "model1.add(MaxPooling2D(pool_size=(2, 2)))\n",
        "\n",
        "# Flattening\n",
        "model1.add(Flatten())\n",
        "\n",
        "# Fully connected layer 1st layer\n",
        "model1.add(Dense(64))\n",
        "model1.add(BatchNormalization())\n",
        "model1.add(Activation('relu'))\n",
        "\n",
        "# Fully connected layer 2nd layer\n",
        "model1.add(Dense(32))\n",
        "model1.add(BatchNormalization())\n",
        "model1.add(Activation('relu'))\n",
        "\n",
        "model1.add(Dense(4, activation='softmax'))\n",
        "\n",
        "model1.compile(loss='categorical_crossentropy',\n",
        "              optimizer='adam',\n",
        "              metrics=['accuracy'])\n",
        "\n"
      ]
    },
    {
      "cell_type": "code",
      "execution_count": null,
      "metadata": {
        "colab": {
          "base_uri": "https://localhost:8080/"
        },
        "id": "QQBFa2svtnuh",
        "outputId": "a423f419-dc06-4b96-af80-c270536fdca2"
      },
      "outputs": [
        {
          "name": "stdout",
          "output_type": "stream",
          "text": [
            "Model: \"sequential_1\"\n",
            "_________________________________________________________________\n",
            " Layer (type)                Output Shape              Param #   \n",
            "=================================================================\n",
            " conv2d_3 (Conv2D)           (None, 48, 48, 64)        640       \n",
            "                                                                 \n",
            " batch_normalization (BatchN  (None, 48, 48, 64)       256       \n",
            " ormalization)                                                   \n",
            "                                                                 \n",
            " activation (Activation)     (None, 48, 48, 64)        0         \n",
            "                                                                 \n",
            " max_pooling2d_3 (MaxPooling  (None, 24, 24, 64)       0         \n",
            " 2D)                                                             \n",
            "                                                                 \n",
            " conv2d_4 (Conv2D)           (None, 24, 24, 128)       204928    \n",
            "                                                                 \n",
            " batch_normalization_1 (Batc  (None, 24, 24, 128)      512       \n",
            " hNormalization)                                                 \n",
            "                                                                 \n",
            " activation_1 (Activation)   (None, 24, 24, 128)       0         \n",
            "                                                                 \n",
            " max_pooling2d_4 (MaxPooling  (None, 12, 12, 128)      0         \n",
            " 2D)                                                             \n",
            "                                                                 \n",
            " conv2d_5 (Conv2D)           (None, 12, 12, 512)       590336    \n",
            "                                                                 \n",
            " batch_normalization_2 (Batc  (None, 12, 12, 512)      2048      \n",
            " hNormalization)                                                 \n",
            "                                                                 \n",
            " activation_2 (Activation)   (None, 12, 12, 512)       0         \n",
            "                                                                 \n",
            " max_pooling2d_5 (MaxPooling  (None, 6, 6, 512)        0         \n",
            " 2D)                                                             \n",
            "                                                                 \n",
            " flatten_1 (Flatten)         (None, 18432)             0         \n",
            "                                                                 \n",
            " dense_3 (Dense)             (None, 64)                1179712   \n",
            "                                                                 \n",
            " batch_normalization_3 (Batc  (None, 64)               256       \n",
            " hNormalization)                                                 \n",
            "                                                                 \n",
            " activation_3 (Activation)   (None, 64)                0         \n",
            "                                                                 \n",
            " dense_4 (Dense)             (None, 32)                2080      \n",
            "                                                                 \n",
            " batch_normalization_4 (Batc  (None, 32)               128       \n",
            " hNormalization)                                                 \n",
            "                                                                 \n",
            " activation_4 (Activation)   (None, 32)                0         \n",
            "                                                                 \n",
            " dense_5 (Dense)             (None, 4)                 132       \n",
            "                                                                 \n",
            "=================================================================\n",
            "Total params: 1,981,028\n",
            "Trainable params: 1,979,428\n",
            "Non-trainable params: 1,600\n",
            "_________________________________________________________________\n"
          ]
        }
      ],
      "source": [
        "model1.summary()"
      ]
    },
    {
      "cell_type": "code",
      "execution_count": null,
      "metadata": {
        "colab": {
          "base_uri": "https://localhost:8080/"
        },
        "id": "a2wBvB60Qhxw",
        "outputId": "1b41d763-6e86-45c6-81c1-2eddcd1eae0b"
      },
      "outputs": [
        {
          "name": "stdout",
          "output_type": "stream",
          "text": [
            "Epoch 1/50\n",
            "165/165 [==============================] - 4443s 27s/step - loss: 1.1842 - accuracy: 0.4726 - val_loss: 1.3814 - val_accuracy: 0.2224\n",
            "Epoch 2/50\n",
            "165/165 [==============================] - 47s 282ms/step - loss: 0.9115 - accuracy: 0.6186 - val_loss: 1.2875 - val_accuracy: 0.4049\n",
            "Epoch 3/50\n",
            "165/165 [==============================] - 46s 281ms/step - loss: 0.7814 - accuracy: 0.6793 - val_loss: 1.1453 - val_accuracy: 0.4879\n",
            "Epoch 4/50\n",
            "165/165 [==============================] - 47s 286ms/step - loss: 0.6799 - accuracy: 0.7312 - val_loss: 0.9590 - val_accuracy: 0.5955\n",
            "Epoch 5/50\n",
            "165/165 [==============================] - 47s 283ms/step - loss: 0.5663 - accuracy: 0.7797 - val_loss: 1.1775 - val_accuracy: 0.5553\n",
            "Epoch 6/50\n",
            "165/165 [==============================] - 46s 281ms/step - loss: 0.4286 - accuracy: 0.8415 - val_loss: 1.1526 - val_accuracy: 0.5749\n",
            "Epoch 7/50\n",
            "165/165 [==============================] - 47s 287ms/step - loss: 0.3107 - accuracy: 0.8881 - val_loss: 1.4723 - val_accuracy: 0.5582\n",
            "Epoch 8/50\n",
            "165/165 [==============================] - 47s 286ms/step - loss: 0.2144 - accuracy: 0.9292 - val_loss: 1.4052 - val_accuracy: 0.5868\n",
            "Epoch 9/50\n",
            "165/165 [==============================] - 47s 285ms/step - loss: 0.1464 - accuracy: 0.9534 - val_loss: 1.3947 - val_accuracy: 0.5858\n",
            "Epoch 10/50\n",
            "165/165 [==============================] - 47s 284ms/step - loss: 0.0905 - accuracy: 0.9749 - val_loss: 1.3572 - val_accuracy: 0.6140\n",
            "Epoch 11/50\n",
            "165/165 [==============================] - 47s 288ms/step - loss: 0.0575 - accuracy: 0.9855 - val_loss: 1.6659 - val_accuracy: 0.5979\n",
            "Epoch 12/50\n",
            "165/165 [==============================] - 47s 283ms/step - loss: 0.0581 - accuracy: 0.9825 - val_loss: 1.4169 - val_accuracy: 0.6208\n",
            "Epoch 13/50\n",
            "165/165 [==============================] - 47s 283ms/step - loss: 0.0501 - accuracy: 0.9853 - val_loss: 1.7311 - val_accuracy: 0.6163\n",
            "Epoch 14/50\n",
            "165/165 [==============================] - 47s 284ms/step - loss: 0.0543 - accuracy: 0.9830 - val_loss: 1.6317 - val_accuracy: 0.6196\n",
            "Epoch 15/50\n",
            "165/165 [==============================] - 47s 284ms/step - loss: 0.0742 - accuracy: 0.9755 - val_loss: 2.8088 - val_accuracy: 0.4844\n",
            "Epoch 16/50\n",
            "165/165 [==============================] - 47s 284ms/step - loss: 0.0698 - accuracy: 0.9755 - val_loss: 1.6577 - val_accuracy: 0.6183\n",
            "Epoch 17/50\n",
            "165/165 [==============================] - 46s 281ms/step - loss: 0.0495 - accuracy: 0.9851 - val_loss: 1.6265 - val_accuracy: 0.6210\n",
            "Epoch 18/50\n",
            "165/165 [==============================] - 47s 283ms/step - loss: 0.0339 - accuracy: 0.9898 - val_loss: 1.8999 - val_accuracy: 0.5613\n",
            "Epoch 19/50\n",
            "165/165 [==============================] - 47s 286ms/step - loss: 0.0269 - accuracy: 0.9920 - val_loss: 1.7681 - val_accuracy: 0.6165\n",
            "Epoch 20/50\n",
            "165/165 [==============================] - 47s 284ms/step - loss: 0.0228 - accuracy: 0.9934 - val_loss: 2.4382 - val_accuracy: 0.5963\n",
            "Epoch 21/50\n",
            "165/165 [==============================] - 46s 282ms/step - loss: 0.0185 - accuracy: 0.9949 - val_loss: 2.4320 - val_accuracy: 0.5126\n",
            "Epoch 22/50\n",
            "165/165 [==============================] - 46s 281ms/step - loss: 0.0190 - accuracy: 0.9945 - val_loss: 2.0692 - val_accuracy: 0.5981\n",
            "Epoch 23/50\n",
            "165/165 [==============================] - 46s 281ms/step - loss: 0.0310 - accuracy: 0.9892 - val_loss: 2.2011 - val_accuracy: 0.5953\n",
            "Epoch 24/50\n",
            "165/165 [==============================] - 48s 288ms/step - loss: 0.0907 - accuracy: 0.9693 - val_loss: 2.0506 - val_accuracy: 0.5453\n",
            "Epoch 25/50\n",
            "165/165 [==============================] - 46s 279ms/step - loss: 0.0591 - accuracy: 0.9796 - val_loss: 2.6971 - val_accuracy: 0.5054\n",
            "Epoch 26/50\n",
            "165/165 [==============================] - 46s 278ms/step - loss: 0.0244 - accuracy: 0.9926 - val_loss: 1.7542 - val_accuracy: 0.6459\n",
            "Epoch 27/50\n",
            "165/165 [==============================] - 46s 281ms/step - loss: 0.0111 - accuracy: 0.9975 - val_loss: 1.8452 - val_accuracy: 0.6498\n",
            "Epoch 28/50\n",
            "165/165 [==============================] - 47s 286ms/step - loss: 0.0073 - accuracy: 0.9984 - val_loss: 1.8204 - val_accuracy: 0.6576\n",
            "Epoch 29/50\n",
            "165/165 [==============================] - 47s 285ms/step - loss: 0.0064 - accuracy: 0.9985 - val_loss: 1.7781 - val_accuracy: 0.6650\n",
            "Epoch 30/50\n",
            "165/165 [==============================] - 46s 282ms/step - loss: 0.0058 - accuracy: 0.9982 - val_loss: 1.7850 - val_accuracy: 0.6451\n",
            "Epoch 31/50\n",
            "165/165 [==============================] - 47s 284ms/step - loss: 0.0046 - accuracy: 0.9988 - val_loss: 1.8342 - val_accuracy: 0.6418\n",
            "Epoch 32/50\n",
            "165/165 [==============================] - 46s 279ms/step - loss: 0.0050 - accuracy: 0.9982 - val_loss: 2.3130 - val_accuracy: 0.6027\n",
            "Epoch 33/50\n",
            "165/165 [==============================] - 45s 275ms/step - loss: 0.0046 - accuracy: 0.9984 - val_loss: 1.9269 - val_accuracy: 0.6430\n",
            "Epoch 34/50\n",
            "165/165 [==============================] - 46s 277ms/step - loss: 0.0051 - accuracy: 0.9984 - val_loss: 2.0512 - val_accuracy: 0.6068\n",
            "Epoch 35/50\n",
            "165/165 [==============================] - 46s 276ms/step - loss: 0.0968 - accuracy: 0.9682 - val_loss: 2.3839 - val_accuracy: 0.5175\n",
            "Epoch 36/50\n",
            "165/165 [==============================] - 45s 275ms/step - loss: 0.1489 - accuracy: 0.9461 - val_loss: 1.9331 - val_accuracy: 0.5951\n",
            "Epoch 37/50\n",
            "165/165 [==============================] - 46s 278ms/step - loss: 0.0379 - accuracy: 0.9876 - val_loss: 1.6855 - val_accuracy: 0.6484\n",
            "Epoch 38/50\n",
            "165/165 [==============================] - 47s 288ms/step - loss: 0.0101 - accuracy: 0.9976 - val_loss: 1.6970 - val_accuracy: 0.6519\n",
            "Epoch 39/50\n",
            "165/165 [==============================] - 46s 276ms/step - loss: 0.0064 - accuracy: 0.9984 - val_loss: 1.6952 - val_accuracy: 0.6634\n",
            "Epoch 40/50\n",
            "165/165 [==============================] - 45s 275ms/step - loss: 0.0049 - accuracy: 0.9985 - val_loss: 1.7143 - val_accuracy: 0.6599\n",
            "Epoch 41/50\n",
            "165/165 [==============================] - 46s 276ms/step - loss: 0.0050 - accuracy: 0.9983 - val_loss: 1.7769 - val_accuracy: 0.6516\n",
            "Epoch 42/50\n",
            "165/165 [==============================] - 46s 276ms/step - loss: 0.0041 - accuracy: 0.9985 - val_loss: 1.7344 - val_accuracy: 0.6607\n",
            "Epoch 43/50\n",
            "165/165 [==============================] - 45s 275ms/step - loss: 0.0031 - accuracy: 0.9989 - val_loss: 1.7381 - val_accuracy: 0.6669\n",
            "Epoch 44/50\n",
            "165/165 [==============================] - 47s 287ms/step - loss: 0.0040 - accuracy: 0.9987 - val_loss: 1.8200 - val_accuracy: 0.6646\n",
            "Epoch 45/50\n",
            "165/165 [==============================] - 46s 280ms/step - loss: 0.0034 - accuracy: 0.9986 - val_loss: 1.7874 - val_accuracy: 0.6675\n",
            "Epoch 46/50\n",
            "165/165 [==============================] - 46s 276ms/step - loss: 0.0039 - accuracy: 0.9987 - val_loss: 1.8031 - val_accuracy: 0.6572\n",
            "Epoch 47/50\n",
            "165/165 [==============================] - 45s 271ms/step - loss: 0.0035 - accuracy: 0.9986 - val_loss: 1.8105 - val_accuracy: 0.6595\n",
            "Epoch 48/50\n",
            "165/165 [==============================] - 46s 276ms/step - loss: 0.0033 - accuracy: 0.9989 - val_loss: 1.8833 - val_accuracy: 0.6572\n",
            "Epoch 49/50\n",
            "165/165 [==============================] - 46s 276ms/step - loss: 0.0037 - accuracy: 0.9988 - val_loss: 1.8415 - val_accuracy: 0.6586\n",
            "Epoch 50/50\n",
            "165/165 [==============================] - 46s 277ms/step - loss: 0.0041 - accuracy: 0.9987 - val_loss: 1.8818 - val_accuracy: 0.6667\n"
          ]
        }
      ],
      "source": [
        "# model fit dengan data train dan valid\n",
        "history = model1.fit(train_data,\n",
        "                    epochs=50,\n",
        "                    validation_data=valid_data)"
      ]
    },
    {
      "cell_type": "code",
      "execution_count": null,
      "metadata": {
        "colab": {
          "base_uri": "https://localhost:8080/",
          "height": 1000
        },
        "id": "QxIxyoSJCZao",
        "outputId": "a2eeb63f-8a14-4f73-d191-ca45a91dfc50"
      },
      "outputs": [
        {
          "data": {
            "text/html": [
              "\n",
              "  <div id=\"df-b4c6c98b-462b-47f4-8dc5-af1c8f87e388\">\n",
              "    <div class=\"colab-df-container\">\n",
              "      <div>\n",
              "<style scoped>\n",
              "    .dataframe tbody tr th:only-of-type {\n",
              "        vertical-align: middle;\n",
              "    }\n",
              "\n",
              "    .dataframe tbody tr th {\n",
              "        vertical-align: top;\n",
              "    }\n",
              "\n",
              "    .dataframe thead th {\n",
              "        text-align: right;\n",
              "    }\n",
              "</style>\n",
              "<table border=\"1\" class=\"dataframe\">\n",
              "  <thead>\n",
              "    <tr style=\"text-align: right;\">\n",
              "      <th></th>\n",
              "      <th>loss</th>\n",
              "      <th>accuracy</th>\n",
              "      <th>val_loss</th>\n",
              "      <th>val_accuracy</th>\n",
              "    </tr>\n",
              "  </thead>\n",
              "  <tbody>\n",
              "    <tr>\n",
              "      <th>0</th>\n",
              "      <td>1.184151</td>\n",
              "      <td>0.472648</td>\n",
              "      <td>1.381385</td>\n",
              "      <td>0.222374</td>\n",
              "    </tr>\n",
              "    <tr>\n",
              "      <th>1</th>\n",
              "      <td>0.911499</td>\n",
              "      <td>0.618636</td>\n",
              "      <td>1.287489</td>\n",
              "      <td>0.404864</td>\n",
              "    </tr>\n",
              "    <tr>\n",
              "      <th>2</th>\n",
              "      <td>0.781393</td>\n",
              "      <td>0.679271</td>\n",
              "      <td>1.145263</td>\n",
              "      <td>0.487938</td>\n",
              "    </tr>\n",
              "    <tr>\n",
              "      <th>3</th>\n",
              "      <td>0.679883</td>\n",
              "      <td>0.731224</td>\n",
              "      <td>0.959015</td>\n",
              "      <td>0.595525</td>\n",
              "    </tr>\n",
              "    <tr>\n",
              "      <th>4</th>\n",
              "      <td>0.566297</td>\n",
              "      <td>0.779665</td>\n",
              "      <td>1.177544</td>\n",
              "      <td>0.555253</td>\n",
              "    </tr>\n",
              "    <tr>\n",
              "      <th>5</th>\n",
              "      <td>0.428638</td>\n",
              "      <td>0.841486</td>\n",
              "      <td>1.152601</td>\n",
              "      <td>0.574903</td>\n",
              "    </tr>\n",
              "    <tr>\n",
              "      <th>6</th>\n",
              "      <td>0.310678</td>\n",
              "      <td>0.888125</td>\n",
              "      <td>1.472313</td>\n",
              "      <td>0.558171</td>\n",
              "    </tr>\n",
              "    <tr>\n",
              "      <th>7</th>\n",
              "      <td>0.214421</td>\n",
              "      <td>0.929212</td>\n",
              "      <td>1.405174</td>\n",
              "      <td>0.586770</td>\n",
              "    </tr>\n",
              "    <tr>\n",
              "      <th>8</th>\n",
              "      <td>0.146440</td>\n",
              "      <td>0.953409</td>\n",
              "      <td>1.394704</td>\n",
              "      <td>0.585798</td>\n",
              "    </tr>\n",
              "    <tr>\n",
              "      <th>9</th>\n",
              "      <td>0.090463</td>\n",
              "      <td>0.974902</td>\n",
              "      <td>1.357195</td>\n",
              "      <td>0.614008</td>\n",
              "    </tr>\n",
              "    <tr>\n",
              "      <th>10</th>\n",
              "      <td>0.057514</td>\n",
              "      <td>0.985529</td>\n",
              "      <td>1.665873</td>\n",
              "      <td>0.597860</td>\n",
              "    </tr>\n",
              "    <tr>\n",
              "      <th>11</th>\n",
              "      <td>0.058103</td>\n",
              "      <td>0.982540</td>\n",
              "      <td>1.416904</td>\n",
              "      <td>0.620817</td>\n",
              "    </tr>\n",
              "    <tr>\n",
              "      <th>12</th>\n",
              "      <td>0.050054</td>\n",
              "      <td>0.985339</td>\n",
              "      <td>1.731069</td>\n",
              "      <td>0.616342</td>\n",
              "    </tr>\n",
              "    <tr>\n",
              "      <th>13</th>\n",
              "      <td>0.054293</td>\n",
              "      <td>0.982967</td>\n",
              "      <td>1.631662</td>\n",
              "      <td>0.619650</td>\n",
              "    </tr>\n",
              "    <tr>\n",
              "      <th>14</th>\n",
              "      <td>0.074166</td>\n",
              "      <td>0.975518</td>\n",
              "      <td>2.808795</td>\n",
              "      <td>0.484436</td>\n",
              "    </tr>\n",
              "    <tr>\n",
              "      <th>15</th>\n",
              "      <td>0.069814</td>\n",
              "      <td>0.975518</td>\n",
              "      <td>1.657736</td>\n",
              "      <td>0.618288</td>\n",
              "    </tr>\n",
              "    <tr>\n",
              "      <th>16</th>\n",
              "      <td>0.049457</td>\n",
              "      <td>0.985150</td>\n",
              "      <td>1.626521</td>\n",
              "      <td>0.621012</td>\n",
              "    </tr>\n",
              "    <tr>\n",
              "      <th>17</th>\n",
              "      <td>0.033927</td>\n",
              "      <td>0.989752</td>\n",
              "      <td>1.899897</td>\n",
              "      <td>0.561284</td>\n",
              "    </tr>\n",
              "    <tr>\n",
              "      <th>18</th>\n",
              "      <td>0.026865</td>\n",
              "      <td>0.992029</td>\n",
              "      <td>1.768057</td>\n",
              "      <td>0.616537</td>\n",
              "    </tr>\n",
              "    <tr>\n",
              "      <th>19</th>\n",
              "      <td>0.022807</td>\n",
              "      <td>0.993405</td>\n",
              "      <td>2.438170</td>\n",
              "      <td>0.596304</td>\n",
              "    </tr>\n",
              "    <tr>\n",
              "      <th>20</th>\n",
              "      <td>0.018457</td>\n",
              "      <td>0.994923</td>\n",
              "      <td>2.432046</td>\n",
              "      <td>0.512646</td>\n",
              "    </tr>\n",
              "    <tr>\n",
              "      <th>21</th>\n",
              "      <td>0.018982</td>\n",
              "      <td>0.994496</td>\n",
              "      <td>2.069167</td>\n",
              "      <td>0.598054</td>\n",
              "    </tr>\n",
              "    <tr>\n",
              "      <th>22</th>\n",
              "      <td>0.031011</td>\n",
              "      <td>0.989183</td>\n",
              "      <td>2.201095</td>\n",
              "      <td>0.595331</td>\n",
              "    </tr>\n",
              "    <tr>\n",
              "      <th>23</th>\n",
              "      <td>0.090678</td>\n",
              "      <td>0.969303</td>\n",
              "      <td>2.050625</td>\n",
              "      <td>0.545331</td>\n",
              "    </tr>\n",
              "    <tr>\n",
              "      <th>24</th>\n",
              "      <td>0.059136</td>\n",
              "      <td>0.979551</td>\n",
              "      <td>2.697131</td>\n",
              "      <td>0.505447</td>\n",
              "    </tr>\n",
              "    <tr>\n",
              "      <th>25</th>\n",
              "      <td>0.024396</td>\n",
              "      <td>0.992551</td>\n",
              "      <td>1.754205</td>\n",
              "      <td>0.645914</td>\n",
              "    </tr>\n",
              "    <tr>\n",
              "      <th>26</th>\n",
              "      <td>0.011092</td>\n",
              "      <td>0.997485</td>\n",
              "      <td>1.845239</td>\n",
              "      <td>0.649805</td>\n",
              "    </tr>\n",
              "    <tr>\n",
              "      <th>27</th>\n",
              "      <td>0.007273</td>\n",
              "      <td>0.998434</td>\n",
              "      <td>1.820420</td>\n",
              "      <td>0.657588</td>\n",
              "    </tr>\n",
              "    <tr>\n",
              "      <th>28</th>\n",
              "      <td>0.006409</td>\n",
              "      <td>0.998482</td>\n",
              "      <td>1.778082</td>\n",
              "      <td>0.664981</td>\n",
              "    </tr>\n",
              "    <tr>\n",
              "      <th>29</th>\n",
              "      <td>0.005802</td>\n",
              "      <td>0.998245</td>\n",
              "      <td>1.784988</td>\n",
              "      <td>0.645136</td>\n",
              "    </tr>\n",
              "    <tr>\n",
              "      <th>30</th>\n",
              "      <td>0.004642</td>\n",
              "      <td>0.998766</td>\n",
              "      <td>1.834166</td>\n",
              "      <td>0.641829</td>\n",
              "    </tr>\n",
              "    <tr>\n",
              "      <th>31</th>\n",
              "      <td>0.004993</td>\n",
              "      <td>0.998245</td>\n",
              "      <td>2.313022</td>\n",
              "      <td>0.602724</td>\n",
              "    </tr>\n",
              "    <tr>\n",
              "      <th>32</th>\n",
              "      <td>0.004635</td>\n",
              "      <td>0.998434</td>\n",
              "      <td>1.926903</td>\n",
              "      <td>0.642996</td>\n",
              "    </tr>\n",
              "    <tr>\n",
              "      <th>33</th>\n",
              "      <td>0.005054</td>\n",
              "      <td>0.998387</td>\n",
              "      <td>2.051181</td>\n",
              "      <td>0.606809</td>\n",
              "    </tr>\n",
              "    <tr>\n",
              "      <th>34</th>\n",
              "      <td>0.096767</td>\n",
              "      <td>0.968212</td>\n",
              "      <td>2.383878</td>\n",
              "      <td>0.517510</td>\n",
              "    </tr>\n",
              "    <tr>\n",
              "      <th>35</th>\n",
              "      <td>0.148902</td>\n",
              "      <td>0.946150</td>\n",
              "      <td>1.933066</td>\n",
              "      <td>0.595136</td>\n",
              "    </tr>\n",
              "    <tr>\n",
              "      <th>36</th>\n",
              "      <td>0.037907</td>\n",
              "      <td>0.987617</td>\n",
              "      <td>1.685534</td>\n",
              "      <td>0.648444</td>\n",
              "    </tr>\n",
              "    <tr>\n",
              "      <th>37</th>\n",
              "      <td>0.010100</td>\n",
              "      <td>0.997580</td>\n",
              "      <td>1.697047</td>\n",
              "      <td>0.651946</td>\n",
              "    </tr>\n",
              "    <tr>\n",
              "      <th>38</th>\n",
              "      <td>0.006440</td>\n",
              "      <td>0.998387</td>\n",
              "      <td>1.695192</td>\n",
              "      <td>0.663424</td>\n",
              "    </tr>\n",
              "    <tr>\n",
              "      <th>39</th>\n",
              "      <td>0.004869</td>\n",
              "      <td>0.998529</td>\n",
              "      <td>1.714265</td>\n",
              "      <td>0.659922</td>\n",
              "    </tr>\n",
              "    <tr>\n",
              "      <th>40</th>\n",
              "      <td>0.004956</td>\n",
              "      <td>0.998339</td>\n",
              "      <td>1.776935</td>\n",
              "      <td>0.651556</td>\n",
              "    </tr>\n",
              "    <tr>\n",
              "      <th>41</th>\n",
              "      <td>0.004114</td>\n",
              "      <td>0.998529</td>\n",
              "      <td>1.734449</td>\n",
              "      <td>0.660700</td>\n",
              "    </tr>\n",
              "    <tr>\n",
              "      <th>42</th>\n",
              "      <td>0.003125</td>\n",
              "      <td>0.998909</td>\n",
              "      <td>1.738083</td>\n",
              "      <td>0.666926</td>\n",
              "    </tr>\n",
              "    <tr>\n",
              "      <th>43</th>\n",
              "      <td>0.004033</td>\n",
              "      <td>0.998672</td>\n",
              "      <td>1.819971</td>\n",
              "      <td>0.664591</td>\n",
              "    </tr>\n",
              "    <tr>\n",
              "      <th>44</th>\n",
              "      <td>0.003423</td>\n",
              "      <td>0.998577</td>\n",
              "      <td>1.787351</td>\n",
              "      <td>0.667510</td>\n",
              "    </tr>\n",
              "    <tr>\n",
              "      <th>45</th>\n",
              "      <td>0.003878</td>\n",
              "      <td>0.998672</td>\n",
              "      <td>1.803058</td>\n",
              "      <td>0.657198</td>\n",
              "    </tr>\n",
              "    <tr>\n",
              "      <th>46</th>\n",
              "      <td>0.003524</td>\n",
              "      <td>0.998624</td>\n",
              "      <td>1.810485</td>\n",
              "      <td>0.659533</td>\n",
              "    </tr>\n",
              "    <tr>\n",
              "      <th>47</th>\n",
              "      <td>0.003264</td>\n",
              "      <td>0.998861</td>\n",
              "      <td>1.883271</td>\n",
              "      <td>0.657198</td>\n",
              "    </tr>\n",
              "    <tr>\n",
              "      <th>48</th>\n",
              "      <td>0.003724</td>\n",
              "      <td>0.998814</td>\n",
              "      <td>1.841507</td>\n",
              "      <td>0.658560</td>\n",
              "    </tr>\n",
              "    <tr>\n",
              "      <th>49</th>\n",
              "      <td>0.004084</td>\n",
              "      <td>0.998672</td>\n",
              "      <td>1.881793</td>\n",
              "      <td>0.666732</td>\n",
              "    </tr>\n",
              "  </tbody>\n",
              "</table>\n",
              "</div>\n",
              "      <button class=\"colab-df-convert\" onclick=\"convertToInteractive('df-b4c6c98b-462b-47f4-8dc5-af1c8f87e388')\"\n",
              "              title=\"Convert this dataframe to an interactive table.\"\n",
              "              style=\"display:none;\">\n",
              "        \n",
              "  <svg xmlns=\"http://www.w3.org/2000/svg\" height=\"24px\"viewBox=\"0 0 24 24\"\n",
              "       width=\"24px\">\n",
              "    <path d=\"M0 0h24v24H0V0z\" fill=\"none\"/>\n",
              "    <path d=\"M18.56 5.44l.94 2.06.94-2.06 2.06-.94-2.06-.94-.94-2.06-.94 2.06-2.06.94zm-11 1L8.5 8.5l.94-2.06 2.06-.94-2.06-.94L8.5 2.5l-.94 2.06-2.06.94zm10 10l.94 2.06.94-2.06 2.06-.94-2.06-.94-.94-2.06-.94 2.06-2.06.94z\"/><path d=\"M17.41 7.96l-1.37-1.37c-.4-.4-.92-.59-1.43-.59-.52 0-1.04.2-1.43.59L10.3 9.45l-7.72 7.72c-.78.78-.78 2.05 0 2.83L4 21.41c.39.39.9.59 1.41.59.51 0 1.02-.2 1.41-.59l7.78-7.78 2.81-2.81c.8-.78.8-2.07 0-2.86zM5.41 20L4 18.59l7.72-7.72 1.47 1.35L5.41 20z\"/>\n",
              "  </svg>\n",
              "      </button>\n",
              "      \n",
              "  <style>\n",
              "    .colab-df-container {\n",
              "      display:flex;\n",
              "      flex-wrap:wrap;\n",
              "      gap: 12px;\n",
              "    }\n",
              "\n",
              "    .colab-df-convert {\n",
              "      background-color: #E8F0FE;\n",
              "      border: none;\n",
              "      border-radius: 50%;\n",
              "      cursor: pointer;\n",
              "      display: none;\n",
              "      fill: #1967D2;\n",
              "      height: 32px;\n",
              "      padding: 0 0 0 0;\n",
              "      width: 32px;\n",
              "    }\n",
              "\n",
              "    .colab-df-convert:hover {\n",
              "      background-color: #E2EBFA;\n",
              "      box-shadow: 0px 1px 2px rgba(60, 64, 67, 0.3), 0px 1px 3px 1px rgba(60, 64, 67, 0.15);\n",
              "      fill: #174EA6;\n",
              "    }\n",
              "\n",
              "    [theme=dark] .colab-df-convert {\n",
              "      background-color: #3B4455;\n",
              "      fill: #D2E3FC;\n",
              "    }\n",
              "\n",
              "    [theme=dark] .colab-df-convert:hover {\n",
              "      background-color: #434B5C;\n",
              "      box-shadow: 0px 1px 3px 1px rgba(0, 0, 0, 0.15);\n",
              "      filter: drop-shadow(0px 1px 2px rgba(0, 0, 0, 0.3));\n",
              "      fill: #FFFFFF;\n",
              "    }\n",
              "  </style>\n",
              "\n",
              "      <script>\n",
              "        const buttonEl =\n",
              "          document.querySelector('#df-b4c6c98b-462b-47f4-8dc5-af1c8f87e388 button.colab-df-convert');\n",
              "        buttonEl.style.display =\n",
              "          google.colab.kernel.accessAllowed ? 'block' : 'none';\n",
              "\n",
              "        async function convertToInteractive(key) {\n",
              "          const element = document.querySelector('#df-b4c6c98b-462b-47f4-8dc5-af1c8f87e388');\n",
              "          const dataTable =\n",
              "            await google.colab.kernel.invokeFunction('convertToInteractive',\n",
              "                                                     [key], {});\n",
              "          if (!dataTable) return;\n",
              "\n",
              "          const docLinkHtml = 'Like what you see? Visit the ' +\n",
              "            '<a target=\"_blank\" href=https://colab.research.google.com/notebooks/data_table.ipynb>data table notebook</a>'\n",
              "            + ' to learn more about interactive tables.';\n",
              "          element.innerHTML = '';\n",
              "          dataTable['output_type'] = 'display_data';\n",
              "          await google.colab.output.renderOutput(dataTable, element);\n",
              "          const docLink = document.createElement('div');\n",
              "          docLink.innerHTML = docLinkHtml;\n",
              "          element.appendChild(docLink);\n",
              "        }\n",
              "      </script>\n",
              "    </div>\n",
              "  </div>\n",
              "  "
            ],
            "text/plain": [
              "        loss  accuracy  val_loss  val_accuracy\n",
              "0   1.184151  0.472648  1.381385      0.222374\n",
              "1   0.911499  0.618636  1.287489      0.404864\n",
              "2   0.781393  0.679271  1.145263      0.487938\n",
              "3   0.679883  0.731224  0.959015      0.595525\n",
              "4   0.566297  0.779665  1.177544      0.555253\n",
              "5   0.428638  0.841486  1.152601      0.574903\n",
              "6   0.310678  0.888125  1.472313      0.558171\n",
              "7   0.214421  0.929212  1.405174      0.586770\n",
              "8   0.146440  0.953409  1.394704      0.585798\n",
              "9   0.090463  0.974902  1.357195      0.614008\n",
              "10  0.057514  0.985529  1.665873      0.597860\n",
              "11  0.058103  0.982540  1.416904      0.620817\n",
              "12  0.050054  0.985339  1.731069      0.616342\n",
              "13  0.054293  0.982967  1.631662      0.619650\n",
              "14  0.074166  0.975518  2.808795      0.484436\n",
              "15  0.069814  0.975518  1.657736      0.618288\n",
              "16  0.049457  0.985150  1.626521      0.621012\n",
              "17  0.033927  0.989752  1.899897      0.561284\n",
              "18  0.026865  0.992029  1.768057      0.616537\n",
              "19  0.022807  0.993405  2.438170      0.596304\n",
              "20  0.018457  0.994923  2.432046      0.512646\n",
              "21  0.018982  0.994496  2.069167      0.598054\n",
              "22  0.031011  0.989183  2.201095      0.595331\n",
              "23  0.090678  0.969303  2.050625      0.545331\n",
              "24  0.059136  0.979551  2.697131      0.505447\n",
              "25  0.024396  0.992551  1.754205      0.645914\n",
              "26  0.011092  0.997485  1.845239      0.649805\n",
              "27  0.007273  0.998434  1.820420      0.657588\n",
              "28  0.006409  0.998482  1.778082      0.664981\n",
              "29  0.005802  0.998245  1.784988      0.645136\n",
              "30  0.004642  0.998766  1.834166      0.641829\n",
              "31  0.004993  0.998245  2.313022      0.602724\n",
              "32  0.004635  0.998434  1.926903      0.642996\n",
              "33  0.005054  0.998387  2.051181      0.606809\n",
              "34  0.096767  0.968212  2.383878      0.517510\n",
              "35  0.148902  0.946150  1.933066      0.595136\n",
              "36  0.037907  0.987617  1.685534      0.648444\n",
              "37  0.010100  0.997580  1.697047      0.651946\n",
              "38  0.006440  0.998387  1.695192      0.663424\n",
              "39  0.004869  0.998529  1.714265      0.659922\n",
              "40  0.004956  0.998339  1.776935      0.651556\n",
              "41  0.004114  0.998529  1.734449      0.660700\n",
              "42  0.003125  0.998909  1.738083      0.666926\n",
              "43  0.004033  0.998672  1.819971      0.664591\n",
              "44  0.003423  0.998577  1.787351      0.667510\n",
              "45  0.003878  0.998672  1.803058      0.657198\n",
              "46  0.003524  0.998624  1.810485      0.659533\n",
              "47  0.003264  0.998861  1.883271      0.657198\n",
              "48  0.003724  0.998814  1.841507      0.658560\n",
              "49  0.004084  0.998672  1.881793      0.666732"
            ]
          },
          "execution_count": 8,
          "metadata": {},
          "output_type": "execute_result"
        }
      ],
      "source": [
        "# melihat grafik terhadap performa model\n",
        "metrics1 = pd.DataFrame(history.history)\n",
        "metrics1"
      ]
    },
    {
      "cell_type": "code",
      "execution_count": null,
      "metadata": {
        "colab": {
          "base_uri": "https://localhost:8080/",
          "height": 513
        },
        "id": "QwlM9CVzCdhT",
        "outputId": "456d6258-f4c4-4be1-fba0-30b74851bb45"
      },
      "outputs": [
        {
          "data": {
            "image/png": "[encoded data removed]",
            "text/plain": [
              "<Figure size 432x288 with 1 Axes>"
            ]
          },
          "metadata": {
            "needs_background": "light"
          },
          "output_type": "display_data"
        },
        {
          "data": {
            "image/png": "[encoded data removed]",
            "text/plain": [
              "<Figure size 432x288 with 1 Axes>"
            ]
          },
          "metadata": {
            "needs_background": "light"
          },
          "output_type": "display_data"
        }
      ],
      "source": [
        "# performa model dari segi loss\n",
        "metrics1[['loss', 'val_loss']].plot();\n",
        "# performa model dari segi accuracy\n",
        "metrics1[['accuracy', 'val_accuracy']].plot();"
      ]
    },
    {
      "cell_type": "markdown",
      "metadata": {
        "id": "2o-pP2oE9svU"
      },
      "source": [
        "`Kesimpulan pada Model Improvement Pertama`\n",
        "\n",
        "1. Performa pada model improvement pertama `tidak jauh berbeda` dengan baseline model dan masih masuk dalam kategori `overfit` dengan data train hingga mendapatkan **nilai loss 0.4%** dan **nilai accuracy 99%** namun pada data validasi mendapatkan **nilai loss 188%** dan **nilai accuracy 67%**\n",
        "\n",
        "2. Dengan ditambahkan beberapa parameter untuk setiap layer convolutional dan hidden layer, membuat `perbaikan` pada performa terhadap **data train, accuracy pada validasi** namun justru performa pada loss di data validasi `lebih buruk`\n",
        "\n",
        "3. Hal ini menjadikan dugaan adanya explode gradient pada data validasi dikarenakan jumlah filter dan neuron pada layer `terlalu banyak` sehingga memperbesar indikasi weight update pada model menjadi explode\n",
        "\n",
        "4. Pada beberapa artikel dan forum yang dibaca oleh peneliti, untuk membuat model belajar lebih *objektif* disarankan menggunakan dropout dengan nilai minimal 0.5 atau lebih. Hal tersebut membuat model secara random dapat melihat performa pada setiap filter ataupun neurons setelah hasil dropout di setiap layer.\n",
        "\n",
        "5. Hal tersebut dapat dijadikan alternatif tanpa mengubah jumlah neuron atau filter pada saat melakukan training yang dapat mengurangi `kemampuan belajar` model "
      ]
    },
    {
      "cell_type": "markdown",
      "metadata": {
        "id": "ZiEO-_QrB0-O"
      },
      "source": [
        "#### Model Improvement Kedua\n",
        "\n",
        "Dilakukan dengan arsitektur sebagai berikut;\n",
        "\n",
        "1. 3 layer convutional, dengan activation function `relu`, pixel dengan convutional `3 x 3`, dan dengan jumlah filter masing-masing adalah `64, 128, dan 128` dan ditambahkan Batch Normalisasi\n",
        "\n",
        "2. Flatten layer\n",
        "3. 2 hidden layer dengan neurons masing - masing adalah `64 dan 32`, activation function `relu`\n",
        "4. Dropout sebesar 0.5 pada setiap layer"
      ]
    },
    {
      "cell_type": "code",
      "execution_count": 8,
      "metadata": {
        "id": "MwHCBIG5BK8L"
      },
      "outputs": [],
      "source": [
        "# model ketiga\n",
        "model2 = Sequential()\n",
        "\n",
        "# Convolutional 1\n",
        "model2.add(Conv2D(64,(3,3), padding='same', input_shape=(48, 48,1)))\n",
        "model2.add(BatchNormalization())\n",
        "model2.add(Activation('selu'))\n",
        "model2.add(MaxPooling2D(pool_size=(2, 2)))\n",
        "model2.add(Dropout(0.5))\n",
        "\n",
        "# Convolutional 2\n",
        "model2.add(Conv2D(128,(3,3), padding='same'))\n",
        "model2.add(BatchNormalization())\n",
        "model2.add(Activation('selu'))\n",
        "model2.add(MaxPooling2D(pool_size=(2, 2)))\n",
        "model2.add(Dropout(0.5))\n",
        "\n",
        "# Convolutional 3\n",
        "model2.add(Conv2D(128,(3,3), padding='same'))\n",
        "model2.add(BatchNormalization())\n",
        "model2.add(Activation('selu'))\n",
        "model2.add(MaxPooling2D(pool_size=(2, 2)))\n",
        "model2.add(Dropout(0.5))\n",
        "\n",
        "# Flattening\n",
        "model2.add(Flatten())\n",
        "\n",
        "# Fully connected layer 1st layer\n",
        "model2.add(Dense(64))\n",
        "model2.add(BatchNormalization())\n",
        "model2.add(Activation('selu'))\n",
        "model2.add(Dropout(0.5))\n",
        "\n",
        "# Fully connected layer 2nd layer\n",
        "model2.add(Dense(32))\n",
        "model2.add(BatchNormalization())\n",
        "model2.add(Activation('selu'))\n",
        "model2.add(Dropout(0.5))\n",
        "\n",
        "model2.add(Dense(4, activation='softmax'))\n",
        "\n",
        "model2.compile(loss='categorical_crossentropy',\n",
        "              optimizer='adam',\n",
        "              metrics=['accuracy'])\n"
      ]
    },
    {
      "cell_type": "code",
      "execution_count": 9,
      "metadata": {
        "colab": {
          "base_uri": "https://localhost:8080/"
        },
        "id": "-YmQvKF5C3uy",
        "outputId": "8ae95e21-132d-444d-8fb8-2107a8409ca1"
      },
      "outputs": [
        {
          "name": "stdout",
          "output_type": "stream",
          "text": [
            "Model: \"sequential\"\n",
            "_________________________________________________________________\n",
            " Layer (type)                Output Shape              Param #   \n",
            "=================================================================\n",
            " conv2d (Conv2D)             (None, 48, 48, 64)        640       \n",
            "                                                                 \n",
            " batch_normalization (BatchN  (None, 48, 48, 64)       256       \n",
            " ormalization)                                                   \n",
            "                                                                 \n",
            " activation (Activation)     (None, 48, 48, 64)        0         \n",
            "                                                                 \n",
            " max_pooling2d (MaxPooling2D  (None, 24, 24, 64)       0         \n",
            " )                                                               \n",
            "                                                                 \n",
            " dropout (Dropout)           (None, 24, 24, 64)        0         \n",
            "                                                                 \n",
            " conv2d_1 (Conv2D)           (None, 24, 24, 128)       73856     \n",
            "                                                                 \n",
            " batch_normalization_1 (Batc  (None, 24, 24, 128)      512       \n",
            " hNormalization)                                                 \n",
            "                                                                 \n",
            " activation_1 (Activation)   (None, 24, 24, 128)       0         \n",
            "                                                                 \n",
            " max_pooling2d_1 (MaxPooling  (None, 12, 12, 128)      0         \n",
            " 2D)                                                             \n",
            "                                                                 \n",
            " dropout_1 (Dropout)         (None, 12, 12, 128)       0         \n",
            "                                                                 \n",
            " conv2d_2 (Conv2D)           (None, 12, 12, 128)       147584    \n",
            "                                                                 \n",
            " batch_normalization_2 (Batc  (None, 12, 12, 128)      512       \n",
            " hNormalization)                                                 \n",
            "                                                                 \n",
            " activation_2 (Activation)   (None, 12, 12, 128)       0         \n",
            "                                                                 \n",
            " max_pooling2d_2 (MaxPooling  (None, 6, 6, 128)        0         \n",
            " 2D)                                                             \n",
            "                                                                 \n",
            " dropout_2 (Dropout)         (None, 6, 6, 128)         0         \n",
            "                                                                 \n",
            " flatten (Flatten)           (None, 4608)              0         \n",
            "                                                                 \n",
            " dense (Dense)               (None, 64)                294976    \n",
            "                                                                 \n",
            " batch_normalization_3 (Batc  (None, 64)               256       \n",
            " hNormalization)                                                 \n",
            "                                                                 \n",
            " activation_3 (Activation)   (None, 64)                0         \n",
            "                                                                 \n",
            " dropout_3 (Dropout)         (None, 64)                0         \n",
            "                                                                 \n",
            " dense_1 (Dense)             (None, 32)                2080      \n",
            "                                                                 \n",
            " batch_normalization_4 (Batc  (None, 32)               128       \n",
            " hNormalization)                                                 \n",
            "                                                                 \n",
            " activation_4 (Activation)   (None, 32)                0         \n",
            "                                                                 \n",
            " dropout_4 (Dropout)         (None, 32)                0         \n",
            "                                                                 \n",
            " dense_2 (Dense)             (None, 4)                 132       \n",
            "                                                                 \n",
            "=================================================================\n",
            "Total params: 520,932\n",
            "Trainable params: 520,100\n",
            "Non-trainable params: 832\n",
            "_________________________________________________________________\n"
          ]
        }
      ],
      "source": [
        "# model 2 summary\n",
        "model2.summary()"
      ]
    },
    {
      "cell_type": "code",
      "execution_count": 11,
      "metadata": {
        "colab": {
          "base_uri": "https://localhost:8080/"
        },
        "id": "NiYFeKWiDMNB",
        "outputId": "5997f4e0-7d3f-4c11-de20-457da21075f9"
      },
      "outputs": [
        {
          "name": "stdout",
          "output_type": "stream",
          "text": [
            "Epoch 1/50\n",
            "165/165 [==============================] - 9015s 55s/step - loss: 1.7305 - accuracy: 0.3120 - val_loss: 1.3324 - val_accuracy: 0.3556\n",
            "Epoch 2/50\n",
            "165/165 [==============================] - 305s 2s/step - loss: 1.3932 - accuracy: 0.3875 - val_loss: 1.3040 - val_accuracy: 0.4008\n",
            "Epoch 3/50\n",
            "165/165 [==============================] - 305s 2s/step - loss: 1.2679 - accuracy: 0.4342 - val_loss: 1.2302 - val_accuracy: 0.4578\n",
            "Epoch 4/50\n",
            "165/165 [==============================] - 305s 2s/step - loss: 1.2177 - accuracy: 0.4609 - val_loss: 1.1864 - val_accuracy: 0.4782\n",
            "Epoch 5/50\n",
            "165/165 [==============================] - 305s 2s/step - loss: 1.1816 - accuracy: 0.4813 - val_loss: 1.1253 - val_accuracy: 0.5012\n",
            "Epoch 6/50\n",
            "165/165 [==============================] - 305s 2s/step - loss: 1.1507 - accuracy: 0.4959 - val_loss: 1.1001 - val_accuracy: 0.5132\n",
            "Epoch 7/50\n",
            "165/165 [==============================] - 304s 2s/step - loss: 1.1305 - accuracy: 0.5076 - val_loss: 1.1018 - val_accuracy: 0.5130\n",
            "Epoch 8/50\n",
            "165/165 [==============================] - 305s 2s/step - loss: 1.1076 - accuracy: 0.5217 - val_loss: 1.0124 - val_accuracy: 0.5755\n",
            "Epoch 9/50\n",
            "165/165 [==============================] - 304s 2s/step - loss: 1.0883 - accuracy: 0.5309 - val_loss: 1.0283 - val_accuracy: 0.5628\n",
            "Epoch 10/50\n",
            "165/165 [==============================] - 304s 2s/step - loss: 1.0682 - accuracy: 0.5448 - val_loss: 1.0532 - val_accuracy: 0.5494\n",
            "Epoch 11/50\n",
            "165/165 [==============================] - 304s 2s/step - loss: 1.0612 - accuracy: 0.5476 - val_loss: 1.0500 - val_accuracy: 0.5523\n",
            "Epoch 12/50\n",
            "165/165 [==============================] - 304s 2s/step - loss: 1.0431 - accuracy: 0.5585 - val_loss: 0.9664 - val_accuracy: 0.6006\n",
            "Epoch 13/50\n",
            "165/165 [==============================] - 304s 2s/step - loss: 1.0370 - accuracy: 0.5583 - val_loss: 0.9510 - val_accuracy: 0.6037\n",
            "Epoch 14/50\n",
            "165/165 [==============================] - 304s 2s/step - loss: 1.0209 - accuracy: 0.5717 - val_loss: 0.9331 - val_accuracy: 0.6136\n",
            "Epoch 15/50\n",
            "165/165 [==============================] - 304s 2s/step - loss: 1.0075 - accuracy: 0.5793 - val_loss: 0.9316 - val_accuracy: 0.6103\n",
            "Epoch 16/50\n",
            "165/165 [==============================] - 304s 2s/step - loss: 1.0047 - accuracy: 0.5759 - val_loss: 0.9279 - val_accuracy: 0.6111\n",
            "Epoch 17/50\n",
            "165/165 [==============================] - 304s 2s/step - loss: 0.9912 - accuracy: 0.5885 - val_loss: 0.9629 - val_accuracy: 0.5914\n",
            "Epoch 18/50\n",
            "165/165 [==============================] - 304s 2s/step - loss: 0.9861 - accuracy: 0.5880 - val_loss: 0.9195 - val_accuracy: 0.6191\n",
            "Epoch 19/50\n",
            "165/165 [==============================] - 304s 2s/step - loss: 0.9774 - accuracy: 0.5920 - val_loss: 0.9311 - val_accuracy: 0.6113\n",
            "Epoch 20/50\n",
            "165/165 [==============================] - 304s 2s/step - loss: 0.9660 - accuracy: 0.5996 - val_loss: 0.8951 - val_accuracy: 0.6333\n",
            "Epoch 21/50\n",
            "165/165 [==============================] - 304s 2s/step - loss: 0.9661 - accuracy: 0.5987 - val_loss: 0.9035 - val_accuracy: 0.6214\n",
            "Epoch 22/50\n",
            "165/165 [==============================] - 304s 2s/step - loss: 0.9582 - accuracy: 0.6026 - val_loss: 0.8970 - val_accuracy: 0.6239\n",
            "Epoch 23/50\n",
            "165/165 [==============================] - 304s 2s/step - loss: 0.9433 - accuracy: 0.6090 - val_loss: 0.8984 - val_accuracy: 0.6354\n",
            "Epoch 24/50\n",
            "165/165 [==============================] - 304s 2s/step - loss: 0.9423 - accuracy: 0.6080 - val_loss: 0.8973 - val_accuracy: 0.6290\n",
            "Epoch 25/50\n",
            "165/165 [==============================] - 304s 2s/step - loss: 0.9410 - accuracy: 0.6108 - val_loss: 0.9142 - val_accuracy: 0.6191\n",
            "Epoch 26/50\n",
            "165/165 [==============================] - 304s 2s/step - loss: 0.9363 - accuracy: 0.6147 - val_loss: 0.8988 - val_accuracy: 0.6339\n",
            "Epoch 27/50\n",
            "165/165 [==============================] - 304s 2s/step - loss: 0.9342 - accuracy: 0.6138 - val_loss: 0.9043 - val_accuracy: 0.6288\n",
            "Epoch 28/50\n",
            "165/165 [==============================] - 304s 2s/step - loss: 0.9205 - accuracy: 0.6260 - val_loss: 0.8665 - val_accuracy: 0.6451\n",
            "Epoch 29/50\n",
            "165/165 [==============================] - 304s 2s/step - loss: 0.9125 - accuracy: 0.6284 - val_loss: 0.8640 - val_accuracy: 0.6500\n",
            "Epoch 30/50\n",
            "165/165 [==============================] - 304s 2s/step - loss: 0.9090 - accuracy: 0.6309 - val_loss: 0.8928 - val_accuracy: 0.6286\n",
            "Epoch 31/50\n",
            "165/165 [==============================] - 305s 2s/step - loss: 0.9085 - accuracy: 0.6286 - val_loss: 0.8772 - val_accuracy: 0.6354\n",
            "Epoch 32/50\n",
            "165/165 [==============================] - 304s 2s/step - loss: 0.9049 - accuracy: 0.6349 - val_loss: 0.8618 - val_accuracy: 0.6453\n",
            "Epoch 33/50\n",
            "165/165 [==============================] - 304s 2s/step - loss: 0.8923 - accuracy: 0.6373 - val_loss: 0.9116 - val_accuracy: 0.6198\n",
            "Epoch 34/50\n",
            "165/165 [==============================] - 304s 2s/step - loss: 0.9019 - accuracy: 0.6320 - val_loss: 0.9108 - val_accuracy: 0.6193\n",
            "Epoch 35/50\n",
            "165/165 [==============================] - 304s 2s/step - loss: 0.8851 - accuracy: 0.6474 - val_loss: 0.9193 - val_accuracy: 0.6160\n",
            "Epoch 36/50\n",
            "165/165 [==============================] - 304s 2s/step - loss: 0.8819 - accuracy: 0.6439 - val_loss: 0.8590 - val_accuracy: 0.6457\n",
            "Epoch 37/50\n",
            "165/165 [==============================] - 304s 2s/step - loss: 0.8811 - accuracy: 0.6427 - val_loss: 0.8677 - val_accuracy: 0.6453\n",
            "Epoch 38/50\n",
            "165/165 [==============================] - 304s 2s/step - loss: 0.8787 - accuracy: 0.6490 - val_loss: 0.8469 - val_accuracy: 0.6531\n",
            "Epoch 39/50\n",
            "165/165 [==============================] - 304s 2s/step - loss: 0.8721 - accuracy: 0.6451 - val_loss: 0.8543 - val_accuracy: 0.6504\n",
            "Epoch 40/50\n",
            "165/165 [==============================] - 304s 2s/step - loss: 0.8743 - accuracy: 0.6454 - val_loss: 0.8446 - val_accuracy: 0.6545\n",
            "Epoch 41/50\n",
            "165/165 [==============================] - 304s 2s/step - loss: 0.8699 - accuracy: 0.6535 - val_loss: 0.8518 - val_accuracy: 0.6482\n",
            "Epoch 42/50\n",
            "165/165 [==============================] - 304s 2s/step - loss: 0.8662 - accuracy: 0.6503 - val_loss: 0.8580 - val_accuracy: 0.6473\n",
            "Epoch 43/50\n",
            "165/165 [==============================] - 304s 2s/step - loss: 0.8617 - accuracy: 0.6543 - val_loss: 0.8479 - val_accuracy: 0.6519\n",
            "Epoch 44/50\n",
            "165/165 [==============================] - 304s 2s/step - loss: 0.8602 - accuracy: 0.6545 - val_loss: 0.8654 - val_accuracy: 0.6438\n",
            "Epoch 45/50\n",
            "165/165 [==============================] - 304s 2s/step - loss: 0.8583 - accuracy: 0.6570 - val_loss: 0.8645 - val_accuracy: 0.6372\n",
            "Epoch 46/50\n",
            "165/165 [==============================] - 304s 2s/step - loss: 0.8550 - accuracy: 0.6580 - val_loss: 0.8402 - val_accuracy: 0.6597\n",
            "Epoch 47/50\n",
            "165/165 [==============================] - 304s 2s/step - loss: 0.8568 - accuracy: 0.6575 - val_loss: 0.8945 - val_accuracy: 0.6292\n",
            "Epoch 48/50\n",
            "165/165 [==============================] - 305s 2s/step - loss: 0.8416 - accuracy: 0.6645 - val_loss: 0.8613 - val_accuracy: 0.6471\n",
            "Epoch 49/50\n",
            "165/165 [==============================] - 304s 2s/step - loss: 0.8436 - accuracy: 0.6613 - val_loss: 0.8494 - val_accuracy: 0.6518\n",
            "Epoch 50/50\n",
            "165/165 [==============================] - 304s 2s/step - loss: 0.8409 - accuracy: 0.6639 - val_loss: 0.8650 - val_accuracy: 0.6475\n"
          ]
        }
      ],
      "source": [
        "# fit model\n",
        "history1 = model2.fit(train_data,\n",
        "                    epochs=50,\n",
        "                    validation_data=valid_data)"
      ]
    },
    {
      "cell_type": "code",
      "execution_count": 12,
      "metadata": {
        "colab": {
          "base_uri": "https://localhost:8080/",
          "height": 1000
        },
        "id": "dW9YV3bPhhSl",
        "outputId": "7a29fd30-9abd-49b5-cff7-1ba76ece68d7"
      },
      "outputs": [
        {
          "data": {
            "text/html": [
              "\n",
              "  <div id=\"df-6aee194c-e180-4308-a347-966b4979a3c0\">\n",
              "    <div class=\"colab-df-container\">\n",
              "      <div>\n",
              "<style scoped>\n",
              "    .dataframe tbody tr th:only-of-type {\n",
              "        vertical-align: middle;\n",
              "    }\n",
              "\n",
              "    .dataframe tbody tr th {\n",
              "        vertical-align: top;\n",
              "    }\n",
              "\n",
              "    .dataframe thead th {\n",
              "        text-align: right;\n",
              "    }\n",
              "</style>\n",
              "<table border=\"1\" class=\"dataframe\">\n",
              "  <thead>\n",
              "    <tr style=\"text-align: right;\">\n",
              "      <th></th>\n",
              "      <th>loss</th>\n",
              "      <th>accuracy</th>\n",
              "      <th>val_loss</th>\n",
              "      <th>val_accuracy</th>\n",
              "    </tr>\n",
              "  </thead>\n",
              "  <tbody>\n",
              "    <tr>\n",
              "      <th>0</th>\n",
              "      <td>1.730487</td>\n",
              "      <td>0.311951</td>\n",
              "      <td>1.332358</td>\n",
              "      <td>0.355642</td>\n",
              "    </tr>\n",
              "    <tr>\n",
              "      <th>1</th>\n",
              "      <td>1.393163</td>\n",
              "      <td>0.387484</td>\n",
              "      <td>1.303963</td>\n",
              "      <td>0.400778</td>\n",
              "    </tr>\n",
              "    <tr>\n",
              "      <th>2</th>\n",
              "      <td>1.267860</td>\n",
              "      <td>0.434170</td>\n",
              "      <td>1.230241</td>\n",
              "      <td>0.457782</td>\n",
              "    </tr>\n",
              "    <tr>\n",
              "      <th>3</th>\n",
              "      <td>1.217737</td>\n",
              "      <td>0.460882</td>\n",
              "      <td>1.186372</td>\n",
              "      <td>0.478210</td>\n",
              "    </tr>\n",
              "    <tr>\n",
              "      <th>4</th>\n",
              "      <td>1.181592</td>\n",
              "      <td>0.481330</td>\n",
              "      <td>1.125342</td>\n",
              "      <td>0.501167</td>\n",
              "    </tr>\n",
              "    <tr>\n",
              "      <th>5</th>\n",
              "      <td>1.150669</td>\n",
              "      <td>0.495896</td>\n",
              "      <td>1.100086</td>\n",
              "      <td>0.513230</td>\n",
              "    </tr>\n",
              "    <tr>\n",
              "      <th>6</th>\n",
              "      <td>1.130511</td>\n",
              "      <td>0.507615</td>\n",
              "      <td>1.101823</td>\n",
              "      <td>0.513035</td>\n",
              "    </tr>\n",
              "    <tr>\n",
              "      <th>7</th>\n",
              "      <td>1.107594</td>\n",
              "      <td>0.521706</td>\n",
              "      <td>1.012429</td>\n",
              "      <td>0.575486</td>\n",
              "    </tr>\n",
              "    <tr>\n",
              "      <th>8</th>\n",
              "      <td>1.088346</td>\n",
              "      <td>0.530863</td>\n",
              "      <td>1.028348</td>\n",
              "      <td>0.562840</td>\n",
              "    </tr>\n",
              "    <tr>\n",
              "      <th>9</th>\n",
              "      <td>1.068238</td>\n",
              "      <td>0.544812</td>\n",
              "      <td>1.053171</td>\n",
              "      <td>0.549416</td>\n",
              "    </tr>\n",
              "    <tr>\n",
              "      <th>10</th>\n",
              "      <td>1.061210</td>\n",
              "      <td>0.547611</td>\n",
              "      <td>1.049982</td>\n",
              "      <td>0.552335</td>\n",
              "    </tr>\n",
              "    <tr>\n",
              "      <th>11</th>\n",
              "      <td>1.043110</td>\n",
              "      <td>0.558476</td>\n",
              "      <td>0.966449</td>\n",
              "      <td>0.600584</td>\n",
              "    </tr>\n",
              "    <tr>\n",
              "      <th>12</th>\n",
              "      <td>1.036978</td>\n",
              "      <td>0.558334</td>\n",
              "      <td>0.951026</td>\n",
              "      <td>0.603697</td>\n",
              "    </tr>\n",
              "    <tr>\n",
              "      <th>13</th>\n",
              "      <td>1.020905</td>\n",
              "      <td>0.571666</td>\n",
              "      <td>0.933105</td>\n",
              "      <td>0.613619</td>\n",
              "    </tr>\n",
              "    <tr>\n",
              "      <th>14</th>\n",
              "      <td>1.007532</td>\n",
              "      <td>0.579304</td>\n",
              "      <td>0.931636</td>\n",
              "      <td>0.610311</td>\n",
              "    </tr>\n",
              "    <tr>\n",
              "      <th>15</th>\n",
              "      <td>1.004722</td>\n",
              "      <td>0.575888</td>\n",
              "      <td>0.927892</td>\n",
              "      <td>0.611089</td>\n",
              "    </tr>\n",
              "    <tr>\n",
              "      <th>16</th>\n",
              "      <td>0.991178</td>\n",
              "      <td>0.588461</td>\n",
              "      <td>0.962913</td>\n",
              "      <td>0.591440</td>\n",
              "    </tr>\n",
              "    <tr>\n",
              "      <th>17</th>\n",
              "      <td>0.986077</td>\n",
              "      <td>0.587987</td>\n",
              "      <td>0.919466</td>\n",
              "      <td>0.619066</td>\n",
              "    </tr>\n",
              "    <tr>\n",
              "      <th>18</th>\n",
              "      <td>0.977380</td>\n",
              "      <td>0.591972</td>\n",
              "      <td>0.931136</td>\n",
              "      <td>0.611284</td>\n",
              "    </tr>\n",
              "    <tr>\n",
              "      <th>19</th>\n",
              "      <td>0.965971</td>\n",
              "      <td>0.599611</td>\n",
              "      <td>0.895104</td>\n",
              "      <td>0.633268</td>\n",
              "    </tr>\n",
              "    <tr>\n",
              "      <th>20</th>\n",
              "      <td>0.966057</td>\n",
              "      <td>0.598662</td>\n",
              "      <td>0.903511</td>\n",
              "      <td>0.621401</td>\n",
              "    </tr>\n",
              "    <tr>\n",
              "      <th>21</th>\n",
              "      <td>0.958244</td>\n",
              "      <td>0.602647</td>\n",
              "      <td>0.897012</td>\n",
              "      <td>0.623930</td>\n",
              "    </tr>\n",
              "    <tr>\n",
              "      <th>22</th>\n",
              "      <td>0.943346</td>\n",
              "      <td>0.608958</td>\n",
              "      <td>0.898368</td>\n",
              "      <td>0.635409</td>\n",
              "    </tr>\n",
              "    <tr>\n",
              "      <th>23</th>\n",
              "      <td>0.942294</td>\n",
              "      <td>0.608009</td>\n",
              "      <td>0.897269</td>\n",
              "      <td>0.628988</td>\n",
              "    </tr>\n",
              "    <tr>\n",
              "      <th>24</th>\n",
              "      <td>0.941041</td>\n",
              "      <td>0.610808</td>\n",
              "      <td>0.914168</td>\n",
              "      <td>0.619066</td>\n",
              "    </tr>\n",
              "    <tr>\n",
              "      <th>25</th>\n",
              "      <td>0.936326</td>\n",
              "      <td>0.614698</td>\n",
              "      <td>0.898796</td>\n",
              "      <td>0.633852</td>\n",
              "    </tr>\n",
              "    <tr>\n",
              "      <th>26</th>\n",
              "      <td>0.934200</td>\n",
              "      <td>0.613797</td>\n",
              "      <td>0.904350</td>\n",
              "      <td>0.628794</td>\n",
              "    </tr>\n",
              "    <tr>\n",
              "      <th>27</th>\n",
              "      <td>0.920482</td>\n",
              "      <td>0.625990</td>\n",
              "      <td>0.866463</td>\n",
              "      <td>0.645136</td>\n",
              "    </tr>\n",
              "    <tr>\n",
              "      <th>28</th>\n",
              "      <td>0.912548</td>\n",
              "      <td>0.628363</td>\n",
              "      <td>0.864039</td>\n",
              "      <td>0.650000</td>\n",
              "    </tr>\n",
              "    <tr>\n",
              "      <th>29</th>\n",
              "      <td>0.908975</td>\n",
              "      <td>0.630925</td>\n",
              "      <td>0.892799</td>\n",
              "      <td>0.628599</td>\n",
              "    </tr>\n",
              "    <tr>\n",
              "      <th>30</th>\n",
              "      <td>0.908534</td>\n",
              "      <td>0.628552</td>\n",
              "      <td>0.877240</td>\n",
              "      <td>0.635409</td>\n",
              "    </tr>\n",
              "    <tr>\n",
              "      <th>31</th>\n",
              "      <td>0.904884</td>\n",
              "      <td>0.634910</td>\n",
              "      <td>0.861823</td>\n",
              "      <td>0.645331</td>\n",
              "    </tr>\n",
              "    <tr>\n",
              "      <th>32</th>\n",
              "      <td>0.892290</td>\n",
              "      <td>0.637330</td>\n",
              "      <td>0.911647</td>\n",
              "      <td>0.619844</td>\n",
              "    </tr>\n",
              "    <tr>\n",
              "      <th>33</th>\n",
              "      <td>0.901882</td>\n",
              "      <td>0.631968</td>\n",
              "      <td>0.910812</td>\n",
              "      <td>0.619261</td>\n",
              "    </tr>\n",
              "    <tr>\n",
              "      <th>34</th>\n",
              "      <td>0.885062</td>\n",
              "      <td>0.647436</td>\n",
              "      <td>0.919319</td>\n",
              "      <td>0.615953</td>\n",
              "    </tr>\n",
              "    <tr>\n",
              "      <th>35</th>\n",
              "      <td>0.881900</td>\n",
              "      <td>0.643877</td>\n",
              "      <td>0.859007</td>\n",
              "      <td>0.645720</td>\n",
              "    </tr>\n",
              "    <tr>\n",
              "      <th>36</th>\n",
              "      <td>0.881064</td>\n",
              "      <td>0.642691</td>\n",
              "      <td>0.867737</td>\n",
              "      <td>0.645331</td>\n",
              "    </tr>\n",
              "    <tr>\n",
              "      <th>37</th>\n",
              "      <td>0.878728</td>\n",
              "      <td>0.648954</td>\n",
              "      <td>0.846866</td>\n",
              "      <td>0.653113</td>\n",
              "    </tr>\n",
              "    <tr>\n",
              "      <th>38</th>\n",
              "      <td>0.872088</td>\n",
              "      <td>0.645063</td>\n",
              "      <td>0.854268</td>\n",
              "      <td>0.650389</td>\n",
              "    </tr>\n",
              "    <tr>\n",
              "      <th>39</th>\n",
              "      <td>0.874282</td>\n",
              "      <td>0.645395</td>\n",
              "      <td>0.844558</td>\n",
              "      <td>0.654475</td>\n",
              "    </tr>\n",
              "    <tr>\n",
              "      <th>40</th>\n",
              "      <td>0.869924</td>\n",
              "      <td>0.653509</td>\n",
              "      <td>0.851818</td>\n",
              "      <td>0.648249</td>\n",
              "    </tr>\n",
              "    <tr>\n",
              "      <th>41</th>\n",
              "      <td>0.866228</td>\n",
              "      <td>0.650282</td>\n",
              "      <td>0.857978</td>\n",
              "      <td>0.647276</td>\n",
              "    </tr>\n",
              "    <tr>\n",
              "      <th>42</th>\n",
              "      <td>0.861676</td>\n",
              "      <td>0.654315</td>\n",
              "      <td>0.847853</td>\n",
              "      <td>0.651946</td>\n",
              "    </tr>\n",
              "    <tr>\n",
              "      <th>43</th>\n",
              "      <td>0.860168</td>\n",
              "      <td>0.654457</td>\n",
              "      <td>0.865379</td>\n",
              "      <td>0.643774</td>\n",
              "    </tr>\n",
              "    <tr>\n",
              "      <th>44</th>\n",
              "      <td>0.858337</td>\n",
              "      <td>0.656972</td>\n",
              "      <td>0.864507</td>\n",
              "      <td>0.637160</td>\n",
              "    </tr>\n",
              "    <tr>\n",
              "      <th>45</th>\n",
              "      <td>0.854972</td>\n",
              "      <td>0.658016</td>\n",
              "      <td>0.840212</td>\n",
              "      <td>0.659728</td>\n",
              "    </tr>\n",
              "    <tr>\n",
              "      <th>46</th>\n",
              "      <td>0.856800</td>\n",
              "      <td>0.657541</td>\n",
              "      <td>0.894504</td>\n",
              "      <td>0.629183</td>\n",
              "    </tr>\n",
              "    <tr>\n",
              "      <th>47</th>\n",
              "      <td>0.841628</td>\n",
              "      <td>0.664468</td>\n",
              "      <td>0.861339</td>\n",
              "      <td>0.647082</td>\n",
              "    </tr>\n",
              "    <tr>\n",
              "      <th>48</th>\n",
              "      <td>0.843596</td>\n",
              "      <td>0.661290</td>\n",
              "      <td>0.849427</td>\n",
              "      <td>0.651751</td>\n",
              "    </tr>\n",
              "    <tr>\n",
              "      <th>49</th>\n",
              "      <td>0.840879</td>\n",
              "      <td>0.663899</td>\n",
              "      <td>0.865026</td>\n",
              "      <td>0.647471</td>\n",
              "    </tr>\n",
              "  </tbody>\n",
              "</table>\n",
              "</div>\n",
              "      <button class=\"colab-df-convert\" onclick=\"convertToInteractive('df-6aee194c-e180-4308-a347-966b4979a3c0')\"\n",
              "              title=\"Convert this dataframe to an interactive table.\"\n",
              "              style=\"display:none;\">\n",
              "        \n",
              "  <svg xmlns=\"http://www.w3.org/2000/svg\" height=\"24px\"viewBox=\"0 0 24 24\"\n",
              "       width=\"24px\">\n",
              "    <path d=\"M0 0h24v24H0V0z\" fill=\"none\"/>\n",
              "    <path d=\"M18.56 5.44l.94 2.06.94-2.06 2.06-.94-2.06-.94-.94-2.06-.94 2.06-2.06.94zm-11 1L8.5 8.5l.94-2.06 2.06-.94-2.06-.94L8.5 2.5l-.94 2.06-2.06.94zm10 10l.94 2.06.94-2.06 2.06-.94-2.06-.94-.94-2.06-.94 2.06-2.06.94z\"/><path d=\"M17.41 7.96l-1.37-1.37c-.4-.4-.92-.59-1.43-.59-.52 0-1.04.2-1.43.59L10.3 9.45l-7.72 7.72c-.78.78-.78 2.05 0 2.83L4 21.41c.39.39.9.59 1.41.59.51 0 1.02-.2 1.41-.59l7.78-7.78 2.81-2.81c.8-.78.8-2.07 0-2.86zM5.41 20L4 18.59l7.72-7.72 1.47 1.35L5.41 20z\"/>\n",
              "  </svg>\n",
              "      </button>\n",
              "      \n",
              "  <style>\n",
              "    .colab-df-container {\n",
              "      display:flex;\n",
              "      flex-wrap:wrap;\n",
              "      gap: 12px;\n",
              "    }\n",
              "\n",
              "    .colab-df-convert {\n",
              "      background-color: #E8F0FE;\n",
              "      border: none;\n",
              "      border-radius: 50%;\n",
              "      cursor: pointer;\n",
              "      display: none;\n",
              "      fill: #1967D2;\n",
              "      height: 32px;\n",
              "      padding: 0 0 0 0;\n",
              "      width: 32px;\n",
              "    }\n",
              "\n",
              "    .colab-df-convert:hover {\n",
              "      background-color: #E2EBFA;\n",
              "      box-shadow: 0px 1px 2px rgba(60, 64, 67, 0.3), 0px 1px 3px 1px rgba(60, 64, 67, 0.15);\n",
              "      fill: #174EA6;\n",
              "    }\n",
              "\n",
              "    [theme=dark] .colab-df-convert {\n",
              "      background-color: #3B4455;\n",
              "      fill: #D2E3FC;\n",
              "    }\n",
              "\n",
              "    [theme=dark] .colab-df-convert:hover {\n",
              "      background-color: #434B5C;\n",
              "      box-shadow: 0px 1px 3px 1px rgba(0, 0, 0, 0.15);\n",
              "      filter: drop-shadow(0px 1px 2px rgba(0, 0, 0, 0.3));\n",
              "      fill: #FFFFFF;\n",
              "    }\n",
              "  </style>\n",
              "\n",
              "      <script>\n",
              "        const buttonEl =\n",
              "          document.querySelector('#df-6aee194c-e180-4308-a347-966b4979a3c0 button.colab-df-convert');\n",
              "        buttonEl.style.display =\n",
              "          google.colab.kernel.accessAllowed ? 'block' : 'none';\n",
              "\n",
              "        async function convertToInteractive(key) {\n",
              "          const element = document.querySelector('#df-6aee194c-e180-4308-a347-966b4979a3c0');\n",
              "          const dataTable =\n",
              "            await google.colab.kernel.invokeFunction('convertToInteractive',\n",
              "                                                     [key], {});\n",
              "          if (!dataTable) return;\n",
              "\n",
              "          const docLinkHtml = 'Like what you see? Visit the ' +\n",
              "            '<a target=\"_blank\" href=https://colab.research.google.com/notebooks/data_table.ipynb>data table notebook</a>'\n",
              "            + ' to learn more about interactive tables.';\n",
              "          element.innerHTML = '';\n",
              "          dataTable['output_type'] = 'display_data';\n",
              "          await google.colab.output.renderOutput(dataTable, element);\n",
              "          const docLink = document.createElement('div');\n",
              "          docLink.innerHTML = docLinkHtml;\n",
              "          element.appendChild(docLink);\n",
              "        }\n",
              "      </script>\n",
              "    </div>\n",
              "  </div>\n",
              "  "
            ],
            "text/plain": [
              "        loss  accuracy  val_loss  val_accuracy\n",
              "0   1.730487  0.311951  1.332358      0.355642\n",
              "1   1.393163  0.387484  1.303963      0.400778\n",
              "2   1.267860  0.434170  1.230241      0.457782\n",
              "3   1.217737  0.460882  1.186372      0.478210\n",
              "4   1.181592  0.481330  1.125342      0.501167\n",
              "5   1.150669  0.495896  1.100086      0.513230\n",
              "6   1.130511  0.507615  1.101823      0.513035\n",
              "7   1.107594  0.521706  1.012429      0.575486\n",
              "8   1.088346  0.530863  1.028348      0.562840\n",
              "9   1.068238  0.544812  1.053171      0.549416\n",
              "10  1.061210  0.547611  1.049982      0.552335\n",
              "11  1.043110  0.558476  0.966449      0.600584\n",
              "12  1.036978  0.558334  0.951026      0.603697\n",
              "13  1.020905  0.571666  0.933105      0.613619\n",
              "14  1.007532  0.579304  0.931636      0.610311\n",
              "15  1.004722  0.575888  0.927892      0.611089\n",
              "16  0.991178  0.588461  0.962913      0.591440\n",
              "17  0.986077  0.587987  0.919466      0.619066\n",
              "18  0.977380  0.591972  0.931136      0.611284\n",
              "19  0.965971  0.599611  0.895104      0.633268\n",
              "20  0.966057  0.598662  0.903511      0.621401\n",
              "21  0.958244  0.602647  0.897012      0.623930\n",
              "22  0.943346  0.608958  0.898368      0.635409\n",
              "23  0.942294  0.608009  0.897269      0.628988\n",
              "24  0.941041  0.610808  0.914168      0.619066\n",
              "25  0.936326  0.614698  0.898796      0.633852\n",
              "26  0.934200  0.613797  0.904350      0.628794\n",
              "27  0.920482  0.625990  0.866463      0.645136\n",
              "28  0.912548  0.628363  0.864039      0.650000\n",
              "29  0.908975  0.630925  0.892799      0.628599\n",
              "30  0.908534  0.628552  0.877240      0.635409\n",
              "31  0.904884  0.634910  0.861823      0.645331\n",
              "32  0.892290  0.637330  0.911647      0.619844\n",
              "33  0.901882  0.631968  0.910812      0.619261\n",
              "34  0.885062  0.647436  0.919319      0.615953\n",
              "35  0.881900  0.643877  0.859007      0.645720\n",
              "36  0.881064  0.642691  0.867737      0.645331\n",
              "37  0.878728  0.648954  0.846866      0.653113\n",
              "38  0.872088  0.645063  0.854268      0.650389\n",
              "39  0.874282  0.645395  0.844558      0.654475\n",
              "40  0.869924  0.653509  0.851818      0.648249\n",
              "41  0.866228  0.650282  0.857978      0.647276\n",
              "42  0.861676  0.654315  0.847853      0.651946\n",
              "43  0.860168  0.654457  0.865379      0.643774\n",
              "44  0.858337  0.656972  0.864507      0.637160\n",
              "45  0.854972  0.658016  0.840212      0.659728\n",
              "46  0.856800  0.657541  0.894504      0.629183\n",
              "47  0.841628  0.664468  0.861339      0.647082\n",
              "48  0.843596  0.661290  0.849427      0.651751\n",
              "49  0.840879  0.663899  0.865026      0.647471"
            ]
          },
          "execution_count": 12,
          "metadata": {},
          "output_type": "execute_result"
        }
      ],
      "source": [
        "# melihat grafik terhadap performa model\n",
        "metrics2 = pd.DataFrame(history1.history)\n",
        "metrics2"
      ]
    },
    {
      "cell_type": "code",
      "execution_count": 13,
      "metadata": {
        "colab": {
          "base_uri": "https://localhost:8080/",
          "height": 513
        },
        "id": "f5IMKCJ8n6NP",
        "outputId": "a8a16d17-faf8-4f91-8644-0ca05d668f4d"
      },
      "outputs": [
        {
          "data": {
            "image/png": "[encoded data removed]",
            "text/plain": [
              "<Figure size 432x288 with 1 Axes>"
            ]
          },
          "metadata": {
            "needs_background": "light"
          },
          "output_type": "display_data"
        },
        {
          "data": {
            "image/png": "[encoded data removed]",
            "text/plain": [
              "<Figure size 432x288 with 1 Axes>"
            ]
          },
          "metadata": {
            "needs_background": "light"
          },
          "output_type": "display_data"
        }
      ],
      "source": [
        "# performa model dari segi loss\n",
        "metrics2[['loss', 'val_loss']].plot();\n",
        "# performa model dari segi accuracy\n",
        "metrics2[['accuracy', 'val_accuracy']].plot();"
      ]
    },
    {
      "cell_type": "code",
      "execution_count": 18,
      "metadata": {
        "id": "z1hrLQZsn0SQ"
      },
      "outputs": [],
      "source": [
        "# save model\n",
        "!mkdir -p saved_model\n",
        "model.save('saved_model/my_model')"
      ]
    },
    {
      "cell_type": "markdown",
      "metadata": {
        "id": "xWJzJHnYGet5"
      },
      "source": [
        "##### Evaluasi klasifikasi dengan data test\n",
        "\n",
        "Hal ini dilakukan dengan tahapan;\n",
        "\n",
        "1. Dilakukan data baru (data test) preparation\n",
        "2. Prediksi dengan model terbaik, yaitu model improvement kedua\n",
        "3. Melihat classification report antara hasil prediksi dengan target aslinya"
      ]
    },
    {
      "cell_type": "code",
      "execution_count": 131,
      "metadata": {
        "colab": {
          "base_uri": "https://localhost:8080/"
        },
        "id": "5rL5j5-kE1zn",
        "outputId": "bbf20e3f-e22d-45a3-90f8-83a0235219b2"
      },
      "outputs": [
        {
          "name": "stdout",
          "output_type": "stream",
          "text": [
            "Found 16 images belonging to 4 classes.\n"
          ]
        }
      ],
      "source": [
        "# evaluasi model dengan data test\n",
        "test_dir = 'test/'\n",
        "test_data = valid_datagen.flow_from_directory(test_dir,\n",
        "                                               target_size=(48, 48),\n",
        "                                               class_mode='categorical',\n",
        "                                              color_mode=\"grayscale\",\n",
        "                                               seed=46)"
      ]
    },
    {
      "cell_type": "code",
      "execution_count": 132,
      "metadata": {
        "id": "kj9IY4JqHrch"
      },
      "outputs": [],
      "source": [
        "# mengubah data tensor test menjadi array\n",
        "val_data = test_data.next()"
      ]
    },
    {
      "cell_type": "code",
      "execution_count": 133,
      "metadata": {
        "colab": {
          "base_uri": "https://localhost:8080/"
        },
        "id": "Obdks9B0D88U",
        "outputId": "c64fbd3f-6c28-4f75-c991-ebcbbfcd0dca"
      },
      "outputs": [
        {
          "name": "stdout",
          "output_type": "stream",
          "text": [
            "              precision    recall  f1-score   support\n",
            "\n",
            "           0       0.75      0.75      0.75         4\n",
            "           1       0.80      1.00      0.89         4\n",
            "           2       0.60      0.75      0.67         4\n",
            "           3       1.00      0.50      0.67         4\n",
            "\n",
            "    accuracy                           0.75        16\n",
            "   macro avg       0.79      0.75      0.74        16\n",
            "weighted avg       0.79      0.75      0.74        16\n",
            "\n"
          ]
        }
      ],
      "source": [
        "# classification report hasil prediksi\n",
        "from sklearn.metrics import classification_report\n",
        "res = model2.predict(val_data[0])\n",
        "y_test = np.array(val_data[1]).argmax(axis=1)\n",
        "res = res.argmax(axis=1)\n",
        "print(classification_report(y_test, res))"
      ]
    },
    {
      "cell_type": "code",
      "execution_count": 137,
      "metadata": {
        "colab": {
          "base_uri": "https://localhost:8080/",
          "height": 301
        },
        "id": "zUtALAh8J-ou",
        "outputId": "a93e0dec-7dad-497b-94cf-9b6fc7cf326d"
      },
      "outputs": [
        {
          "data": {
            "text/plain": [
              "Text(0.5, 15.0, 'predict label')"
            ]
          },
          "execution_count": 137,
          "metadata": {},
          "output_type": "execute_result"
        },
        {
          "data": {
            "image/png": "[encoded data removed]",
            "text/plain": [
              "<Figure size 432x288 with 2 Axes>"
            ]
          },
          "metadata": {
            "needs_background": "light"
          },
          "output_type": "display_data"
        }
      ],
      "source": [
        "# visualisasi dengan confusion matrix\n",
        "from sklearn.metrics import confusion_matrix\n",
        "confusion = confusion_matrix(y_test, res)\n",
        "\n",
        "# Plot non-normalized confusion matrix\n",
        "sns.heatmap(confusion, annot=True)\n",
        "plt.ylabel('true label')\n",
        "plt.xlabel('predict label')"
      ]
    },
    {
      "cell_type": "markdown",
      "metadata": {
        "id": "9b0exsfoJoO8"
      },
      "source": [
        "`Kesimpulan Hasil Model Improvement Kedua`\n",
        "\n",
        "1. Dugaan peneliti terhadap ditambahkan dropout menghasilkan `model yang lebih stabil`, meskipun secara loss masih dapat dikatakan besar namun apabila dilihat dari keseluruhan performa, model dikatakan `goodfit`\n",
        "\n",
        "2. Dengan `nilai loss pada train data sebesar 84%` dan `accuracy pada train data sebesar 66%`, sedangkan `nilai loss pada valid data sebesar 84%` dan `nilai accuracy pada valid data sebesar 64%`\n",
        "\n",
        "3. Dapat dilihat pada saat model dilakukan **prediksi pada data test**, hasil `f1-score rata-rata pada nilai 0.75 atau 75%` dengan `nilai accuracy sebesar 75%`"
      ]
    },
    {
      "cell_type": "markdown",
      "metadata": {
        "id": "3rbkoGK4ozS9"
      },
      "source": [
        "#### Load Model"
      ]
    },
    {
      "cell_type": "code",
      "execution_count": 19,
      "metadata": {
        "id": "-PtHikeUo4ue"
      },
      "outputs": [],
      "source": [
        "new_model = tf.keras.models.load_model('saved_model/best_model')"
      ]
    },
    {
      "cell_type": "code",
      "execution_count": 26,
      "metadata": {
        "colab": {
          "base_uri": "https://localhost:8080/"
        },
        "id": "XEMXy3urpA4R",
        "outputId": "07a29a18-ce50-4b84-b67c-7fbd18aa2b21"
      },
      "outputs": [
        {
          "name": "stdout",
          "output_type": "stream",
          "text": [
            "Model: \"sequential\"\n",
            "_________________________________________________________________\n",
            " Layer (type)                Output Shape              Param #   \n",
            "=================================================================\n",
            " conv2d (Conv2D)             (None, 48, 48, 64)        640       \n",
            "                                                                 \n",
            " batch_normalization (BatchN  (None, 48, 48, 64)       256       \n",
            " ormalization)                                                   \n",
            "                                                                 \n",
            " activation (Activation)     (None, 48, 48, 64)        0         \n",
            "                                                                 \n",
            " max_pooling2d (MaxPooling2D  (None, 24, 24, 64)       0         \n",
            " )                                                               \n",
            "                                                                 \n",
            " dropout (Dropout)           (None, 24, 24, 64)        0         \n",
            "                                                                 \n",
            " conv2d_1 (Conv2D)           (None, 24, 24, 128)       73856     \n",
            "                                                                 \n",
            " batch_normalization_1 (Batc  (None, 24, 24, 128)      512       \n",
            " hNormalization)                                                 \n",
            "                                                                 \n",
            " activation_1 (Activation)   (None, 24, 24, 128)       0         \n",
            "                                                                 \n",
            " max_pooling2d_1 (MaxPooling  (None, 12, 12, 128)      0         \n",
            " 2D)                                                             \n",
            "                                                                 \n",
            " dropout_1 (Dropout)         (None, 12, 12, 128)       0         \n",
            "                                                                 \n",
            " conv2d_2 (Conv2D)           (None, 12, 12, 128)       147584    \n",
            "                                                                 \n",
            " batch_normalization_2 (Batc  (None, 12, 12, 128)      512       \n",
            " hNormalization)                                                 \n",
            "                                                                 \n",
            " activation_2 (Activation)   (None, 12, 12, 128)       0         \n",
            "                                                                 \n",
            " max_pooling2d_2 (MaxPooling  (None, 6, 6, 128)        0         \n",
            " 2D)                                                             \n",
            "                                                                 \n",
            " dropout_2 (Dropout)         (None, 6, 6, 128)         0         \n",
            "                                                                 \n",
            " flatten (Flatten)           (None, 4608)              0         \n",
            "                                                                 \n",
            " dense (Dense)               (None, 64)                294976    \n",
            "                                                                 \n",
            " batch_normalization_3 (Batc  (None, 64)               256       \n",
            " hNormalization)                                                 \n",
            "                                                                 \n",
            " activation_3 (Activation)   (None, 64)                0         \n",
            "                                                                 \n",
            " dropout_3 (Dropout)         (None, 64)                0         \n",
            "                                                                 \n",
            " dense_1 (Dense)             (None, 32)                2080      \n",
            "                                                                 \n",
            " batch_normalization_4 (Batc  (None, 32)               128       \n",
            " hNormalization)                                                 \n",
            "                                                                 \n",
            " activation_4 (Activation)   (None, 32)                0         \n",
            "                                                                 \n",
            " dropout_4 (Dropout)         (None, 32)                0         \n",
            "                                                                 \n",
            " dense_2 (Dense)             (None, 4)                 132       \n",
            "                                                                 \n",
            "=================================================================\n",
            "Total params: 520,932\n",
            "Trainable params: 520,100\n",
            "Non-trainable params: 832\n",
            "_________________________________________________________________\n"
          ]
        }
      ],
      "source": [
        "new_model.summary()"
      ]
    },
    {
      "cell_type": "code",
      "execution_count": 25,
      "metadata": {
        "colab": {
          "base_uri": "https://localhost:8080/"
        },
        "id": "ejoTsLHMpME4",
        "outputId": "f9e898d1-7696-4d7d-e1ca-7e5819bb6789"
      },
      "outputs": [
        {
          "name": "stdout",
          "output_type": "stream",
          "text": [
            "41/41 - 18s - loss: 0.8650 - accuracy: 0.6475 - 18s/epoch - 437ms/step\n",
            "Restored model, accuracy: 64.75%\n"
          ]
        }
      ],
      "source": [
        "loss, acc = new_model.evaluate(valid_data, verbose=2)\n",
        "print('Restored model, accuracy: {:5.2f}%'.format(100 * acc))"
      ]
    },
    {
      "cell_type": "markdown",
      "metadata": {
        "id": "vnO0RoYvJwtr"
      },
      "source": [
        "### Model Inference\n",
        "\n",
        "Dilakukan inference menggunakan data baru pada model terbaik"
      ]
    },
    {
      "cell_type": "code",
      "execution_count": 65,
      "metadata": {
        "colab": {
          "base_uri": "https://localhost:8080/",
          "height": 266
        },
        "id": "sbvY4jOAFZXZ",
        "outputId": "80ddecd6-90ac-4cb4-d142-423adaba500e"
      },
      "outputs": [
        {
          "data": {
            "text/plain": [
              "(-0.5, 47.5, 47.5, -0.5)"
            ]
          },
          "execution_count": 65,
          "metadata": {},
          "output_type": "execute_result"
        },
        {
          "data": {
            "image/png": "[encoded data removed]",
            "text/plain": [
              "<Figure size 432x288 with 1 Axes>"
            ]
          },
          "metadata": {
            "needs_background": "light"
          },
          "output_type": "display_data"
        }
      ],
      "source": [
        "# import data inference\n",
        "im_path = \"/content/sad inference.jpg\"\n",
        "img = image.load_img(im_path, target_size=(48,48))\n",
        "\n",
        "plt.imshow(img)\n",
        "plt.axis('off')"
      ]
    },
    {
      "cell_type": "code",
      "execution_count": 94,
      "metadata": {
        "colab": {
          "base_uri": "https://localhost:8080/",
          "height": 266
        },
        "id": "Je9TyGHdzAT5",
        "outputId": "e08d30f7-1bf3-4c06-840c-729d355d34f2"
      },
      "outputs": [
        {
          "data": {
            "text/plain": [
              "(-0.5, 47.5, 47.5, -0.5)"
            ]
          },
          "execution_count": 94,
          "metadata": {},
          "output_type": "execute_result"
        },
        {
          "data": {
            "image/png": "[encoded data removed]",
            "text/plain": [
              "<Figure size 432x288 with 1 Axes>"
            ]
          },
          "metadata": {
            "needs_background": "light"
          },
          "output_type": "display_data"
        }
      ],
      "source": [
        "# data preparation\n",
        "# mengubah menjadi grayscale\n",
        "grayscale = cv2.cvtColor(np.float32(img), cv2.COLOR_BGR2GRAY)\n",
        "plt.imshow(grayscale, cmap='gray')\n",
        "plt.axis('off')"
      ]
    },
    {
      "cell_type": "code",
      "execution_count": 99,
      "metadata": {
        "colab": {
          "base_uri": "https://localhost:8080/"
        },
        "id": "knv-xoclzbr8",
        "outputId": "06f1186a-1b3b-4156-b118-7c81e5d449ba"
      },
      "outputs": [
        {
          "data": {
            "text/plain": [
              "(1, 48, 48, 1)"
            ]
          },
          "execution_count": 99,
          "metadata": {},
          "output_type": "execute_result"
        }
      ],
      "source": [
        "# rescale dan mengubah format gambar menjadi nuumpy dan shape sesuai input yang diharapkan model\n",
        "img_fix = grayscale/255.0\n",
        "img_fix = image.img_to_array(img_fix) # mengubah menjadi array\n",
        "img_fix = np.expand_dims(img_fix, axis=0) # mengubah shape menjadi 1 input\n",
        "img_fix.shape"
      ]
    },
    {
      "cell_type": "code",
      "execution_count": 74,
      "metadata": {
        "colab": {
          "base_uri": "https://localhost:8080/"
        },
        "id": "Lhs1YrWu0CkP",
        "outputId": "88f0408f-167b-45b7-cce9-81d35515ab10"
      },
      "outputs": [
        {
          "name": "stdout",
          "output_type": "stream",
          "text": [
            "Gambar menunjukkan ekspresi neutral\n"
          ]
        }
      ],
      "source": [
        "# predict\n",
        "\n",
        "pred = new_model.predict(img_fix)\n",
        "res = pred.argmax(axis=1)\n",
        "\n",
        "def klasifikasi(par):\n",
        "  if par[0] == 1:\n",
        "     print(f\"Gambar menunjukkan ekspresi angry\")\n",
        "  elif par[0] == 2:\n",
        "     print(f\"Gambar menunjukkan ekspresi happy\")\n",
        "  elif par[0] == 3:\n",
        "     print(f\"Gambar menunjukkan ekspresi neutral\")\n",
        "  elif par[0] == 4:\n",
        "     print(f\"Gambar menunjukkan ekspresi sad\")\n",
        "  \n",
        "klasifikasi(res)"
      ]
    },
    {
      "cell_type": "markdown",
      "metadata": {
        "id": "u00920BEJwtr"
      },
      "source": [
        "## Conclusions, Assumptions, Overall Analysis\n",
        "\n",
        "`Dapat disimpulkan pada hasil penelitian untuk face recognation adalah`\n",
        "\n",
        "1. Diantara 3 arsitektur model, didapatkan `model improvement kedua` memiliki performansi yang `paling baik` dalam hal ini `goodfit` dengan dataset. Dengan nilai akurasi pada training sebesar 66% dan nilai akurasi pada test sebesar 75%\n",
        "\n",
        "2. Dropout memiliki peran penting apabila arsitektur memiliki kecenderungan `overfit` dan cukup `powerfull` pada saat melakukan training\n",
        "\n",
        "3. Namun, terdapat beberapa catatan yang pada model terbaik, dilihat pada classification report pada kelas sad dan neutral memiliki `nilai f1-score yang sama` dan apabila pada masing-masing metrics precision dan recall, terlihat bahwa nilainya berkebalikan dan ditambah dengan evaluasi pada confusion matrix setiap kelas, disimpulkan;\n",
        "  1. Kelas angry masih terdapat kemungkinan memiliki kesalahan prediksi (False Negative) cenderung masuk ke kelas happy\n",
        "  2. Kelas neutral masih terdapat kemungkinan memiliki kesalahan prediksi (False Negative) cenderung masuk ke kelas angry\n",
        "  3. Kelas sad masih terdapat kemungkinan memiliki kesalahan prediksi (False Negative) cenderung masuk ke kelas neutral\n",
        "\n",
        "  Hal ini terbukti pada hasil prediksi data inference yang memiliki `true label sad` namun model memprediksi ekspreksi tersebut menjadi `neutral`\n",
        "\n",
        "`Masukkan terhadap penelitian selanjutnya`\n",
        "1. Improvement yang dapat dilakukan dengan menambahkan kernal inilization \n",
        "2. Lalu, memperbesar size image dengan menambahkan padding pada saat dilakukan training, hal ini bertujuan agar pada saat dilakukan inference pada gambar yang lebih besar, resize yang dilakukan pada gambar tidak menjadi 'pecah' karena harus memperkecil gambar menjadi ukuran 48 x 48 sehingga dapat mengurangi `bias` yang dihasilkan model sebelumnya"
      ]
    }
  ],
  "metadata": {
    "colab": {
      "collapsed_sections": [],
      "name": "h8dsft_Milestone2P2_Naufal_Dwiki.ipynb",
      "provenance": [],
      "toc_visible": true
    },
    "interpreter": {
      "hash": "cd2a8a85fd7d77a1a495ce0bde2f4f30967d97577e4e022c8dea43445e547d5b"
    },
    "kernelspec": {
      "display_name": "Python 3.10.0 64-bit",
      "language": "python",
      "name": "python3"
    },
    "language_info": {
      "name": "python",
      "version": "3.10.0"
    },
    "orig_nbformat": 4
  },
  "nbformat": 4,
  "nbformat_minor": 0
}
